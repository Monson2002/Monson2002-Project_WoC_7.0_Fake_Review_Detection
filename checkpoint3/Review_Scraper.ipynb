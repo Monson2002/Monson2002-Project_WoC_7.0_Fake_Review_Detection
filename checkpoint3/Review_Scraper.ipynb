{
 "cells": [
  {
   "cell_type": "markdown",
   "metadata": {},
   "source": [
    "## Set Up Environment"
   ]
  },
  {
   "cell_type": "code",
   "execution_count": null,
   "metadata": {},
   "outputs": [
    {
     "name": "stdout",
     "output_type": "stream",
     "text": [
      "Defaulting to user installation because normal site-packages is not writeable\n",
      "Requirement already satisfied: bs4 in c:\\users\\monson\\appdata\\local\\packages\\pythonsoftwarefoundation.python.3.12_qbz5n2kfra8p0\\localcache\\local-packages\\python312\\site-packages (0.0.2)\n",
      "Requirement already satisfied: beautifulsoup4 in c:\\users\\monson\\appdata\\local\\packages\\pythonsoftwarefoundation.python.3.12_qbz5n2kfra8p0\\localcache\\local-packages\\python312\\site-packages (from bs4) (4.12.3)\n",
      "Requirement already satisfied: soupsieve>1.2 in c:\\users\\monson\\appdata\\local\\packages\\pythonsoftwarefoundation.python.3.12_qbz5n2kfra8p0\\localcache\\local-packages\\python312\\site-packages (from beautifulsoup4->bs4) (2.6)\n"
     ]
    },
    {
     "name": "stderr",
     "output_type": "stream",
     "text": [
      "\n",
      "[notice] A new release of pip is available: 24.3.1 -> 25.0\n",
      "[notice] To update, run: C:\\Users\\Monson\\AppData\\Local\\Microsoft\\WindowsApps\\PythonSoftwareFoundation.Python.3.12_qbz5n2kfra8p0\\python.exe -m pip install --upgrade pip\n"
     ]
    },
    {
     "name": "stdout",
     "output_type": "stream",
     "text": [
      "Defaulting to user installation because normal site-packages is not writeable\n",
      "Requirement already satisfied: selenium in c:\\users\\monson\\appdata\\local\\packages\\pythonsoftwarefoundation.python.3.12_qbz5n2kfra8p0\\localcache\\local-packages\\python312\\site-packages (4.28.0)\n",
      "Requirement already satisfied: urllib3<3,>=1.26 in c:\\users\\monson\\appdata\\local\\packages\\pythonsoftwarefoundation.python.3.12_qbz5n2kfra8p0\\localcache\\local-packages\\python312\\site-packages (from urllib3[socks]<3,>=1.26->selenium) (2.2.3)\n",
      "Requirement already satisfied: trio~=0.17 in c:\\users\\monson\\appdata\\local\\packages\\pythonsoftwarefoundation.python.3.12_qbz5n2kfra8p0\\localcache\\local-packages\\python312\\site-packages (from selenium) (0.28.0)\n",
      "Requirement already satisfied: trio-websocket~=0.9 in c:\\users\\monson\\appdata\\local\\packages\\pythonsoftwarefoundation.python.3.12_qbz5n2kfra8p0\\localcache\\local-packages\\python312\\site-packages (from selenium) (0.11.1)\n",
      "Requirement already satisfied: certifi>=2021.10.8 in c:\\users\\monson\\appdata\\local\\packages\\pythonsoftwarefoundation.python.3.12_qbz5n2kfra8p0\\localcache\\local-packages\\python312\\site-packages (from selenium) (2024.8.30)\n",
      "Requirement already satisfied: typing_extensions~=4.9 in c:\\users\\monson\\appdata\\local\\packages\\pythonsoftwarefoundation.python.3.12_qbz5n2kfra8p0\\localcache\\local-packages\\python312\\site-packages (from selenium) (4.12.2)\n",
      "Requirement already satisfied: websocket-client~=1.8 in c:\\users\\monson\\appdata\\local\\packages\\pythonsoftwarefoundation.python.3.12_qbz5n2kfra8p0\\localcache\\local-packages\\python312\\site-packages (from selenium) (1.8.0)\n",
      "Requirement already satisfied: attrs>=23.2.0 in c:\\users\\monson\\appdata\\local\\packages\\pythonsoftwarefoundation.python.3.12_qbz5n2kfra8p0\\localcache\\local-packages\\python312\\site-packages (from trio~=0.17->selenium) (24.2.0)\n",
      "Requirement already satisfied: sortedcontainers in c:\\users\\monson\\appdata\\local\\packages\\pythonsoftwarefoundation.python.3.12_qbz5n2kfra8p0\\localcache\\local-packages\\python312\\site-packages (from trio~=0.17->selenium) (2.4.0)\n",
      "Requirement already satisfied: idna in c:\\users\\monson\\appdata\\local\\packages\\pythonsoftwarefoundation.python.3.12_qbz5n2kfra8p0\\localcache\\local-packages\\python312\\site-packages (from trio~=0.17->selenium) (3.10)\n",
      "Requirement already satisfied: outcome in c:\\users\\monson\\appdata\\local\\packages\\pythonsoftwarefoundation.python.3.12_qbz5n2kfra8p0\\localcache\\local-packages\\python312\\site-packages (from trio~=0.17->selenium) (1.3.0.post0)\n",
      "Requirement already satisfied: sniffio>=1.3.0 in c:\\users\\monson\\appdata\\local\\packages\\pythonsoftwarefoundation.python.3.12_qbz5n2kfra8p0\\localcache\\local-packages\\python312\\site-packages (from trio~=0.17->selenium) (1.3.1)\n",
      "Requirement already satisfied: cffi>=1.14 in c:\\users\\monson\\appdata\\local\\packages\\pythonsoftwarefoundation.python.3.12_qbz5n2kfra8p0\\localcache\\local-packages\\python312\\site-packages (from trio~=0.17->selenium) (1.17.1)\n",
      "Requirement already satisfied: wsproto>=0.14 in c:\\users\\monson\\appdata\\local\\packages\\pythonsoftwarefoundation.python.3.12_qbz5n2kfra8p0\\localcache\\local-packages\\python312\\site-packages (from trio-websocket~=0.9->selenium) (1.2.0)\n",
      "Requirement already satisfied: pysocks!=1.5.7,<2.0,>=1.5.6 in c:\\users\\monson\\appdata\\local\\packages\\pythonsoftwarefoundation.python.3.12_qbz5n2kfra8p0\\localcache\\local-packages\\python312\\site-packages (from urllib3[socks]<3,>=1.26->selenium) (1.7.1)\n",
      "Requirement already satisfied: pycparser in c:\\users\\monson\\appdata\\local\\packages\\pythonsoftwarefoundation.python.3.12_qbz5n2kfra8p0\\localcache\\local-packages\\python312\\site-packages (from cffi>=1.14->trio~=0.17->selenium) (2.22)\n",
      "Requirement already satisfied: h11<1,>=0.9.0 in c:\\users\\monson\\appdata\\local\\packages\\pythonsoftwarefoundation.python.3.12_qbz5n2kfra8p0\\localcache\\local-packages\\python312\\site-packages (from wsproto>=0.14->trio-websocket~=0.9->selenium) (0.14.0)\n"
     ]
    },
    {
     "name": "stderr",
     "output_type": "stream",
     "text": [
      "\n",
      "[notice] A new release of pip is available: 24.3.1 -> 25.0\n",
      "[notice] To update, run: C:\\Users\\Monson\\AppData\\Local\\Microsoft\\WindowsApps\\PythonSoftwareFoundation.Python.3.12_qbz5n2kfra8p0\\python.exe -m pip install --upgrade pip\n"
     ]
    },
    {
     "name": "stdout",
     "output_type": "stream",
     "text": [
      "Defaulting to user installation because normal site-packages is not writeable\n",
      "Requirement already satisfied: webdriver-manager in c:\\users\\monson\\appdata\\local\\packages\\pythonsoftwarefoundation.python.3.12_qbz5n2kfra8p0\\localcache\\local-packages\\python312\\site-packages (4.0.2)\n",
      "Requirement already satisfied: requests in c:\\users\\monson\\appdata\\local\\packages\\pythonsoftwarefoundation.python.3.12_qbz5n2kfra8p0\\localcache\\local-packages\\python312\\site-packages (from webdriver-manager) (2.32.3)\n",
      "Requirement already satisfied: python-dotenv in c:\\users\\monson\\appdata\\local\\packages\\pythonsoftwarefoundation.python.3.12_qbz5n2kfra8p0\\localcache\\local-packages\\python312\\site-packages (from webdriver-manager) (1.0.1)\n",
      "Requirement already satisfied: packaging in c:\\users\\monson\\appdata\\local\\packages\\pythonsoftwarefoundation.python.3.12_qbz5n2kfra8p0\\localcache\\local-packages\\python312\\site-packages (from webdriver-manager) (24.1)\n",
      "Requirement already satisfied: charset-normalizer<4,>=2 in c:\\users\\monson\\appdata\\local\\packages\\pythonsoftwarefoundation.python.3.12_qbz5n2kfra8p0\\localcache\\local-packages\\python312\\site-packages (from requests->webdriver-manager) (3.4.0)\n",
      "Requirement already satisfied: idna<4,>=2.5 in c:\\users\\monson\\appdata\\local\\packages\\pythonsoftwarefoundation.python.3.12_qbz5n2kfra8p0\\localcache\\local-packages\\python312\\site-packages (from requests->webdriver-manager) (3.10)\n",
      "Requirement already satisfied: urllib3<3,>=1.21.1 in c:\\users\\monson\\appdata\\local\\packages\\pythonsoftwarefoundation.python.3.12_qbz5n2kfra8p0\\localcache\\local-packages\\python312\\site-packages (from requests->webdriver-manager) (2.2.3)\n",
      "Requirement already satisfied: certifi>=2017.4.17 in c:\\users\\monson\\appdata\\local\\packages\\pythonsoftwarefoundation.python.3.12_qbz5n2kfra8p0\\localcache\\local-packages\\python312\\site-packages (from requests->webdriver-manager) (2024.8.30)\n"
     ]
    },
    {
     "name": "stderr",
     "output_type": "stream",
     "text": [
      "\n",
      "[notice] A new release of pip is available: 24.3.1 -> 25.0\n",
      "[notice] To update, run: C:\\Users\\Monson\\AppData\\Local\\Microsoft\\WindowsApps\\PythonSoftwareFoundation.Python.3.12_qbz5n2kfra8p0\\python.exe -m pip install --upgrade pip\n"
     ]
    }
   ],
   "source": [
    "! pip install selenium\n",
    "! pip install webdriver-manager"
   ]
  },
  {
   "cell_type": "code",
   "execution_count": 127,
   "metadata": {},
   "outputs": [],
   "source": [
    "from selenium import webdriver\n",
    "from selenium.webdriver.common.by import By\n",
    "from selenium.webdriver.chrome.service import Service\n",
    "from webdriver_manager.chrome import ChromeDriverManager\n",
    "import pandas as pd\n",
    "from selenium.webdriver.chrome.options import Options\n",
    "import time"
   ]
  },
  {
   "cell_type": "markdown",
   "metadata": {},
   "source": [
    "## Develop the Web Scraping Script"
   ]
  },
  {
   "cell_type": "code",
   "execution_count": 128,
   "metadata": {},
   "outputs": [],
   "source": [
    "url = f'https://www.amazon.com/Surround-Headphones-Cancelling-Flexible-Earmuffs/dp/B09TB15CTL/ref=sr_1_1?_encoding=UTF8&sr=8-1'\n",
    "\n",
    "options = Options()\n",
    "options.add_argument(\"--headless\")  # Run in headless mode\n",
    "options.add_argument(\"--disable-blink-features=AutomationControlled\")  # Bypass bot detection\n",
    "options.add_argument(\"user-agent=Mozilla/5.0 (Windows NT 10.0; Win64; x64) AppleWebKit/537.36 (KHTML, like Gecko) Chrome/120.0.0.0 Safari/537.36\")"
   ]
  },
  {
   "cell_type": "code",
   "execution_count": 133,
   "metadata": {},
   "outputs": [],
   "source": [
    "driver = webdriver.Chrome(service=Service(ChromeDriverManager().install()))\n",
    "driver.get(url)"
   ]
  },
  {
   "cell_type": "code",
   "execution_count": 130,
   "metadata": {},
   "outputs": [],
   "source": [
    "time.sleep(3)"
   ]
  },
  {
   "cell_type": "code",
   "execution_count": 134,
   "metadata": {},
   "outputs": [
    {
     "data": {
      "text/plain": [
       "'<ul id=\"cm-cr-dp-review-list\" data-hook=\"top-customer-reviews-widget\" class=\"a-unordered-list a-nostyle a-vertical review-views celwidget\" data-csa-c-id=\"hm48rc-pr8lsj-hxvi2t-xacpna\" data-cel-widget=\"cm-cr-dp-review-list\"><style>\\n    li.review {\\n      margin-bottom:  22px;\\n    }\\n    li.review:last-child {\\n      margin-bottom:  0;\\n    }\\n  </style>\\n<li id=\"R5F5YFXFW7IY3\" data-hook=\"review\" class=\"review aok-relative\"><span class=\"a-list-item\"><div id=\"R5F5YFXFW7IY3-review-card\" class=\"a-row a-spacing-none\"><div id=\"customer_review-R5F5YFXFW7IY3\" class=\"a-section celwidget\" data-csa-c-id=\"lzfroy-oy9tfj-85ijvd-7klx35\" data-cel-widget=\"customer_review-R5F5YFXFW7IY3\"><script>\\n  var metricsName = \"DesktopCredibleBadgesInTopReviewsDetailPageCount\"\\n</script>\\n<script>\\n      if(window.ue) {\\n        ue.count(metricsName, 0)\\n      }\\n    </script>\\n  <div data-hook=\"genome-widget\" class=\"a-row a-spacing-mini\"><a href=\"/gp/profile/amzn1.account.AHSGZZN6CGLGN4FQIZN5DETWW46Q/ref=cm_cr_dp_d_gw_tr?ie=UTF8\" class=\"a-profile\" data-a-size=\"small\"><div aria-hidden=\"true\" class=\"a-profile-avatar-wrapper\"><div class=\"a-profile-avatar\"><img src=\"https://images-na.ssl-images-amazon.com/images/G/01/x-locale/common/grey-pixel.gif\" class=\"a-lazy-loaded\" data-src=\"https://m.media-amazon.com/images/S/amazon-avatars-global/default.png\"><noscript><img src=\"https://m.media-amazon.com/images/S/amazon-avatars-global/default.png\"/></noscript></div></div><div class=\"a-profile-content\"><span class=\"a-profile-name\">Amazon Customer</span></div></a></div><div class=\"a-row\"><h5><a data-hook=\"review-title\" class=\"a-size-base a-link-normal review-title a-color-base review-title-content a-text-bold\" href=\"/gp/customer-reviews/R5F5YFXFW7IY3/ref=cm_cr_dp_d_rvw_ttl?ie=UTF8&amp;ASIN=B09TB15CTL\"><i data-hook=\"review-star-rating\" class=\"a-icon a-icon-star a-star-5 review-rating\"><span class=\"a-icon-alt\">5.0 out of 5 stars</span></i><span class=\"a-letter-space\"></span>\\n\\n\\n\\n\\n\\n\\n\\n  \\n  \\n    <span>Grandson Completely happy!!</span>\\n  \\n</a></h5></div><span data-hook=\"review-date\" aria-level=\"6\" class=\"a-size-base a-color-secondary review-date\" role=\"heading\">Reviewed in the United States on December 18, 2024</span><div class=\"a-row a-spacing-mini review-data review-format-strip\"><span data-hook=\"format-strip-linkless\" class=\"a-color-secondary\">Color: White</span><i aria-hidden=\"true\" class=\"a-icon a-icon-text-separator\" role=\"img\" aria-label=\"|\"></i><a class=\"a-link-normal\" target=\"_blank\" rel=\"noopener\" href=\"/gp/help/customer/display.html/ref=cm_cr_dp_d_rvw_avp?nodeId=G8UYX7LALQC8V9KA\"><span data-hook=\"avp-badge-linkless\" class=\"a-size-mini a-color-state a-text-bold\">Verified Purchase</span></a></div><div class=\"a-row a-spacing-small review-data\"><span data-hook=\"review-body\" class=\"a-size-base review-text\"><div data-a-expander-name=\"review_text_read_more\" data-a-expander-collapsed-height=\"300\" class=\"a-expander-collapsed-height a-row a-expander-container a-expander-partial-collapse-container\" style=\"max-height:300px\"><div data-hook=\"review-collapsed\" data-expanded=\"false\" class=\"a-expander-content reviewText review-text-content a-expander-partial-collapse-content\">\\n\\n\\n\\n\\n\\n\\n\\n  \\n  \\n    <span>These were a replacement for my grandson. He came to me and said he wanted to get these ones. The reviews looked great!! The ear pieces are soft and comfortable he says. the mic works perfectly. The sound is nice crisp and clear.  And the cord on it is just about perfect as well.  Maybe a little longer but works perfectly.  Also, they are holding up to his little brothers shinanigans as well. Quite durable indeed.  Thank you for offering a great headset for the Xbox. and a great price!!<br></span>\\n  \\n</div><div class=\"a-expander-header a-expander-partial-collapse-header\" style=\"opacity: 0; display: none;\"><div class=\"a-expander-content-fade\"></div><a href=\"javascript:void(0)\" data-csa-c-func-deps=\"aui-da-a-expander-toggle\" data-csa-c-type=\"widget\" data-csa-interaction-events=\"click\" data-hook=\"expand-collapse-read-more-less\" aria-label=\"Toggle full review text\" aria-expanded=\"false\" role=\"button\" data-action=\"a-expander-toggle\" class=\"a-declarative\" data-a-expander-toggle=\"{&quot;allowLinkDefault&quot;:true, &quot;expand_prompt&quot;:&quot;Read more&quot;, &quot;collapse_prompt&quot;:&quot;Read less&quot;}\" data-csa-c-id=\"vehfld-1n9utd-yyf3mb-tlvup0\"><i class=\"a-icon a-icon-extender-expand\"></i><span class=\"a-expander-prompt\">Read more</span></a></div></div></span></div><div data-hook=\"review-comments\" class=\"a-row review-comments cr-vote-action-bar\"><span class=\"cr-vote\" data-hook=\"review-voting-widget\">\\n  <div class=\"a-row a-spacing-small\"><span data-hook=\"helpful-vote-statement\" class=\"a-size-base a-color-tertiary cr-vote-text\">4 people found this helpful</span></div><!-- Components for Reactions C -->\\n    <div class=\"cr-helpful-button aok-float-left\">\\n          <span class=\"a-button a-button-base\" id=\"a-autoid-188\"><span class=\"a-button-inner\"><a href=\"https://www.amazon.com/ap/signin?openid.return_to=https%3A%2F%2Fwww.amazon.com%2Fdp%2FB09TB15CTL%2Fref%3Dcm_cr_dp_d_vote_lft%3Fie%3DUTF8%26csrfT%3DhCWkLr76sh40kENR3KNZWitf0W0EXxZcE0dyR3RvfKAEAAAAAGeolEQAAAAB%26reviewId%3DR5F5YFXFW7IY3%23R5F5YFXFW7IY3&amp;openid.identity=http%3A%2F%2Fspecs.openid.net%2Fauth%2F2.0%2Fidentifier_select&amp;openid.assoc_handle=usflex&amp;openid.mode=checkid_setup&amp;marketPlaceId=ATVPDKIKX0DER&amp;language=en&amp;openid.claimed_id=http%3A%2F%2Fspecs.openid.net%2Fauth%2F2.0%2Fidentifier_select&amp;openid.ns=http%3A%2F%2Fspecs.openid.net%2Fauth%2F2.0\" data-hook=\"vote-helpful-button\" aria-label=\"Mark Review As Helpful\" class=\"a-button-text\" id=\"a-autoid-188-announce\"><div class=\"cr-helpful-text\">\\n              Helpful</div>\\n          </a></span></span></div>\\n      </span><span class=\"cr-footer-line-height\">\\n        <span><i aria-hidden=\"true\" class=\"a-icon a-icon-text-separator\" role=\"img\" aria-label=\"|\"></i><span class=\"a-declarative\" data-action=\"reviews:report-abusive-review-modal-button\" data-csa-c-type=\"widget\" data-csa-c-func-deps=\"aui-da-reviews:report-abusive-review-modal-button\" data-reviews:report-abusive-review-modal-button=\"{&quot;closeButton&quot;:&quot;true&quot;,&quot;name&quot;:&quot;report-abusive-review-modal-popover-R5F5YFXFW7IY3&quot;,&quot;width&quot;:&quot;350&quot;,&quot;header&quot;:&quot;Report this review&quot;,&quot;url&quot;:&quot;/hz/reviews-render/report-review?ie=UTF8&amp;ref=cm_cr_dp_d_report&amp;csrfT=hCWkLr76sh40kENR3KNZWitf0W0EXxZcE0dyR3RvfKAEAAAAAGeolEQAAAAB&amp;reviewId=R5F5YFXFW7IY3&quot;}\" id=\"report-abusive-review-modal-popover-R5F5YFXFW7IY3\" data-csa-c-id=\"px3697-fs8owu-38f3dq-25r89i\"><a aria-label=\"Report Review\" class=\"a-size-base a-link-normal a-color-secondary report-abuse-link a-text-normal\" href=\"/hz/reviews-render/report-review?ie=UTF8&amp;ref=cm_cr_dp_d_report&amp;csrfT=hCWkLr76sh40kENR3KNZWitf0W0EXxZcE0dyR3RvfKAEAAAAAGeolEQAAAAB&amp;reviewId=R5F5YFXFW7IY3\">Report</a></span></span></span>\\n  </div></div></div></span></li><li id=\"RJX212ENO2G7K\" data-hook=\"review\" class=\"review aok-relative\"><span class=\"a-list-item\"><div id=\"RJX212ENO2G7K-review-card\" class=\"a-row a-spacing-none\"><div id=\"customer_review-RJX212ENO2G7K\" class=\"a-section celwidget\" data-csa-c-id=\"rcyqx7-7u34r1-ech7yz-rne8bb\" data-cel-widget=\"customer_review-RJX212ENO2G7K\"><script>\\n  var metricsName = \"DesktopCredibleBadgesInTopReviewsDetailPageCount\"\\n</script>\\n<script>\\n      if(window.ue) {\\n        ue.count(metricsName, 0)\\n      }\\n    </script>\\n  <div data-hook=\"genome-widget\" class=\"a-row a-spacing-mini\"><a href=\"/gp/profile/amzn1.account.AFBFYANFPIDFSPSIXTVPZJWA2EZQ/ref=cm_cr_dp_d_gw_tr?ie=UTF8\" class=\"a-profile\" data-a-size=\"small\"><div aria-hidden=\"true\" class=\"a-profile-avatar-wrapper\"><div class=\"a-profile-avatar\"><img src=\"https://images-na.ssl-images-amazon.com/images/G/01/x-locale/common/grey-pixel.gif\" class=\"a-lazy-loaded\" data-src=\"https://m.media-amazon.com/images/S/amazon-avatars-global/default.png\"><noscript><img src=\"https://m.media-amazon.com/images/S/amazon-avatars-global/default.png\"/></noscript></div></div><div class=\"a-profile-content\"><span class=\"a-profile-name\">Meghan Tauzier</span></div></a></div><div class=\"a-row\"><h5><a data-hook=\"review-title\" class=\"a-size-base a-link-normal review-title a-color-base review-title-content a-text-bold\" href=\"/gp/customer-reviews/RJX212ENO2G7K/ref=cm_cr_dp_d_rvw_ttl?ie=UTF8&amp;ASIN=B09TB15CTL\"><i data-hook=\"review-star-rating\" class=\"a-icon a-icon-star a-star-5 review-rating\"><span class=\"a-icon-alt\">5.0 out of 5 stars</span></i><span class=\"a-letter-space\"></span>\\n\\n\\n\\n\\n\\n\\n\\n  \\n  \\n    <span>Great Inexpensive Headset!</span>\\n  \\n</a></h5></div><span data-hook=\"review-date\" aria-level=\"6\" class=\"a-size-base a-color-secondary review-date\" role=\"heading\">Reviewed in the United States on February 2, 2025</span><div class=\"a-row a-spacing-mini review-data review-format-strip\"><span data-hook=\"format-strip-linkless\" class=\"a-color-secondary\">Color: White</span><i aria-hidden=\"true\" class=\"a-icon a-icon-text-separator\" role=\"img\" aria-label=\"|\"></i><a class=\"a-link-normal\" target=\"_blank\" rel=\"noopener\" href=\"/gp/help/customer/display.html/ref=cm_cr_dp_d_rvw_avp?nodeId=G8UYX7LALQC8V9KA\"><span data-hook=\"avp-badge-linkless\" class=\"a-size-mini a-color-state a-text-bold\">Verified Purchase</span></a></div><div class=\"a-row a-spacing-small review-data\"><span data-hook=\"review-body\" class=\"a-size-base review-text\"><div data-a-expander-name=\"review_text_read_more\" data-a-expander-collapsed-height=\"300\" class=\"a-expander-collapsed-height a-row a-expander-container a-expander-partial-collapse-container\" style=\"max-height:300px\"><div data-hook=\"review-collapsed\" data-expanded=\"false\" class=\"a-expander-content reviewText review-text-content a-expander-partial-collapse-content\">\\n\\n\\n\\n\\n\\n\\n\\n  \\n  \\n    <span>Got this headset for my new PC and it works great. No issues setting up and it’s a great value. The sound is great and I’ve had no complaints on the microphone. The cord length is great, they definitely give you enough room. I love the color options, the white matches my set up perfectly. So far they have lasted and held up great. I definitely recommend is you’re looking for a really good inexpensive headset for pc!<br></span>\\n  \\n</div><div class=\"a-expander-header a-expander-partial-collapse-header\" style=\"opacity: 0; display: none;\"><div class=\"a-expander-content-fade\"></div><a href=\"javascript:void(0)\" data-csa-c-func-deps=\"aui-da-a-expander-toggle\" data-csa-c-type=\"widget\" data-csa-interaction-events=\"click\" data-hook=\"expand-collapse-read-more-less\" aria-label=\"Toggle full review text\" aria-expanded=\"false\" role=\"button\" data-action=\"a-expander-toggle\" class=\"a-declarative\" data-a-expander-toggle=\"{&quot;allowLinkDefault&quot;:true, &quot;expand_prompt&quot;:&quot;Read more&quot;, &quot;collapse_prompt&quot;:&quot;Read less&quot;}\" data-csa-c-id=\"1si3fv-bah0sx-355b2j-djycrq\"><i class=\"a-icon a-icon-extender-expand\"></i><span class=\"a-expander-prompt\">Read more</span></a></div></div></span></div><div data-hook=\"review-comments\" class=\"a-row review-comments cr-vote-action-bar\"><span class=\"cr-vote\" data-hook=\"review-voting-widget\">\\n  <div class=\"a-row a-spacing-small\"><span data-hook=\"helpful-vote-statement\" class=\"a-size-base a-color-tertiary cr-vote-text\">One person found this helpful</span></div><!-- Components for Reactions C -->\\n    <div class=\"cr-helpful-button aok-float-left\">\\n          <span class=\"a-button a-button-base\" id=\"a-autoid-189\"><span class=\"a-button-inner\"><a href=\"https://www.amazon.com/ap/signin?openid.return_to=https%3A%2F%2Fwww.amazon.com%2Fdp%2FB09TB15CTL%2Fref%3Dcm_cr_dp_d_vote_lft%3Fie%3DUTF8%26csrfT%3DhMTgWCIOS9L3eEPJtp7DgqNtysehFrE3Wf%252Fc5Z5gBnFTAAAAAGeolEQAAAAB%26reviewId%3DRJX212ENO2G7K%23RJX212ENO2G7K&amp;openid.identity=http%3A%2F%2Fspecs.openid.net%2Fauth%2F2.0%2Fidentifier_select&amp;openid.assoc_handle=usflex&amp;openid.mode=checkid_setup&amp;marketPlaceId=ATVPDKIKX0DER&amp;language=en&amp;openid.claimed_id=http%3A%2F%2Fspecs.openid.net%2Fauth%2F2.0%2Fidentifier_select&amp;openid.ns=http%3A%2F%2Fspecs.openid.net%2Fauth%2F2.0\" data-hook=\"vote-helpful-button\" aria-label=\"Mark Review As Helpful\" class=\"a-button-text\" id=\"a-autoid-189-announce\"><div class=\"cr-helpful-text\">\\n              Helpful</div>\\n          </a></span></span></div>\\n      </span><span class=\"cr-footer-line-height\">\\n        <span><i aria-hidden=\"true\" class=\"a-icon a-icon-text-separator\" role=\"img\" aria-label=\"|\"></i><span class=\"a-declarative\" data-action=\"reviews:report-abusive-review-modal-button\" data-csa-c-type=\"widget\" data-csa-c-func-deps=\"aui-da-reviews:report-abusive-review-modal-button\" data-reviews:report-abusive-review-modal-button=\"{&quot;closeButton&quot;:&quot;true&quot;,&quot;name&quot;:&quot;report-abusive-review-modal-popover-RJX212ENO2G7K&quot;,&quot;width&quot;:&quot;350&quot;,&quot;header&quot;:&quot;Report this review&quot;,&quot;url&quot;:&quot;/hz/reviews-render/report-review?ie=UTF8&amp;ref=cm_cr_dp_d_report&amp;csrfT=hMTgWCIOS9L3eEPJtp7DgqNtysehFrE3Wf%2Fc5Z5gBnFTAAAAAGeolEQAAAAB&amp;reviewId=RJX212ENO2G7K&quot;}\" id=\"report-abusive-review-modal-popover-RJX212ENO2G7K\" data-csa-c-id=\"2yhb36-zadlzg-wni801-1uncbe\"><a aria-label=\"Report Review\" class=\"a-size-base a-link-normal a-color-secondary report-abuse-link a-text-normal\" href=\"/hz/reviews-render/report-review?ie=UTF8&amp;ref=cm_cr_dp_d_report&amp;csrfT=hMTgWCIOS9L3eEPJtp7DgqNtysehFrE3Wf%2Fc5Z5gBnFTAAAAAGeolEQAAAAB&amp;reviewId=RJX212ENO2G7K\">Report</a></span></span></span>\\n  </div></div></div></span></li><li id=\"R2B1M7KSQR9R89\" data-hook=\"review\" class=\"review aok-relative\"><span class=\"a-list-item\"><div id=\"R2B1M7KSQR9R89-review-card\" class=\"a-row a-spacing-none\"><div id=\"customer_review-R2B1M7KSQR9R89\" class=\"a-section celwidget\" data-csa-c-id=\"122w60-xwuuyc-749l1c-eqnve5\" data-cel-widget=\"customer_review-R2B1M7KSQR9R89\"><script>\\n  var metricsName = \"DesktopCredibleBadgesInTopReviewsDetailPageCount\"\\n</script>\\n<script>\\n      if(window.ue) {\\n        ue.count(metricsName, 0)\\n      }\\n    </script>\\n  <div data-hook=\"genome-widget\" class=\"a-row a-spacing-mini\"><a href=\"/gp/profile/amzn1.account.AFUIBD5U3RVDF6X4RLPMO5AXC6AA/ref=cm_cr_dp_d_gw_tr?ie=UTF8\" class=\"a-profile\" data-a-size=\"small\"><div aria-hidden=\"true\" class=\"a-profile-avatar-wrapper\"><div class=\"a-profile-avatar\"><img src=\"https://images-na.ssl-images-amazon.com/images/G/01/x-locale/common/grey-pixel.gif\" class=\"a-lazy-loaded\" data-src=\"https://m.media-amazon.com/images/S/amazon-avatars-global/default.png\"><noscript><img src=\"https://m.media-amazon.com/images/S/amazon-avatars-global/default.png\"/></noscript></div></div><div class=\"a-profile-content\"><span class=\"a-profile-name\">Melissa A Merritt</span></div></a></div><div class=\"a-row\"><h5><a data-hook=\"review-title\" class=\"a-size-base a-link-normal review-title a-color-base review-title-content a-text-bold\" href=\"/gp/customer-reviews/R2B1M7KSQR9R89/ref=cm_cr_dp_d_rvw_ttl?ie=UTF8&amp;ASIN=B09TB15CTL\"><i data-hook=\"review-star-rating\" class=\"a-icon a-icon-star a-star-5 review-rating\"><span class=\"a-icon-alt\">5.0 out of 5 stars</span></i><span class=\"a-letter-space\"></span>\\n\\n\\n\\n\\n\\n\\n\\n  \\n  \\n    <span>Great for teenage boy!</span>\\n  \\n</a></h5></div><span data-hook=\"review-date\" aria-level=\"6\" class=\"a-size-base a-color-secondary review-date\" role=\"heading\">Reviewed in the United States on December 24, 2024</span><div class=\"a-row a-spacing-mini review-data review-format-strip\"><span data-hook=\"format-strip-linkless\" class=\"a-color-secondary\">Color: White</span><i aria-hidden=\"true\" class=\"a-icon a-icon-text-separator\" role=\"img\" aria-label=\"|\"></i><a class=\"a-link-normal\" target=\"_blank\" rel=\"noopener\" href=\"/gp/help/customer/display.html/ref=cm_cr_dp_d_rvw_avp?nodeId=G8UYX7LALQC8V9KA\"><span data-hook=\"avp-badge-linkless\" class=\"a-size-mini a-color-state a-text-bold\">Verified Purchase</span></a></div><div class=\"a-row a-spacing-small review-data\"><span data-hook=\"review-body\" class=\"a-size-base review-text\"><div data-a-expander-name=\"review_text_read_more\" data-a-expander-collapsed-height=\"300\" class=\"a-expander-collapsed-height a-row a-expander-container a-expander-partial-collapse-container\" style=\"max-height:300px\"><div data-hook=\"review-collapsed\" data-expanded=\"false\" class=\"a-expander-content reviewText review-text-content a-expander-partial-collapse-content\">\\n\\n\\n\\n\\n\\n\\n\\n  \\n  \\n    <span>purchased this gaming headset for my teenage son, and it has exceeded all expectations! The build quality is fantastic—it\\'s incredibly sturdy and holds up well to daily use (and the occasional accidental drop). My son absolutely loves it and says it\\'s the best headset he\\'s ever used.<br><br>The sound quality is crystal clear, with great balance between game audio and chat, which makes it perfect for his online gaming sessions with friends. It works seamlessly with his Xbox, and the plug-and-play setup was a breeze.<br><br>The comfort level is also worth mentioning—the cushioned ear pads and adjustable headband mean he can wear it for hours without any discomfort. This headset has definitely enhanced his gaming experience, and as a parent, I’m thrilled with the quality and durability. Highly recommend it for any gamer!<br></span>\\n  \\n</div><div class=\"a-expander-header a-expander-partial-collapse-header\" style=\"opacity: 0; display: none;\"><div class=\"a-expander-content-fade\"></div><a href=\"javascript:void(0)\" data-csa-c-func-deps=\"aui-da-a-expander-toggle\" data-csa-c-type=\"widget\" data-csa-interaction-events=\"click\" data-hook=\"expand-collapse-read-more-less\" aria-label=\"Toggle full review text\" aria-expanded=\"false\" role=\"button\" data-action=\"a-expander-toggle\" class=\"a-declarative\" data-a-expander-toggle=\"{&quot;allowLinkDefault&quot;:true, &quot;expand_prompt&quot;:&quot;Read more&quot;, &quot;collapse_prompt&quot;:&quot;Read less&quot;}\" data-csa-c-id=\"jz37mx-oi7hsf-sk98gc-ku7lli\"><i class=\"a-icon a-icon-extender-expand\"></i><span class=\"a-expander-prompt\">Read more</span></a></div></div></span></div><div data-hook=\"review-comments\" class=\"a-row review-comments cr-vote-action-bar\"><span class=\"cr-vote\" data-hook=\"review-voting-widget\">\\n  <div class=\"a-row a-spacing-small\"><span data-hook=\"helpful-vote-statement\" class=\"a-size-base a-color-tertiary cr-vote-text\">One person found this helpful</span></div><!-- Components for Reactions C -->\\n    <div class=\"cr-helpful-button aok-float-left\">\\n          <span class=\"a-button a-button-base\" id=\"a-autoid-190\"><span class=\"a-button-inner\"><a href=\"https://www.amazon.com/ap/signin?openid.return_to=https%3A%2F%2Fwww.amazon.com%2Fdp%2FB09TB15CTL%2Fref%3Dcm_cr_dp_d_vote_lft%3Fie%3DUTF8%26csrfT%3DhIOIZEHi8u7V9JeUnU10TKvqCZDpDjY%252FNnpp3HZdGD8RAAAAAGeolEQAAAAB%26reviewId%3DR2B1M7KSQR9R89%23R2B1M7KSQR9R89&amp;openid.identity=http%3A%2F%2Fspecs.openid.net%2Fauth%2F2.0%2Fidentifier_select&amp;openid.assoc_handle=usflex&amp;openid.mode=checkid_setup&amp;marketPlaceId=ATVPDKIKX0DER&amp;language=en&amp;openid.claimed_id=http%3A%2F%2Fspecs.openid.net%2Fauth%2F2.0%2Fidentifier_select&amp;openid.ns=http%3A%2F%2Fspecs.openid.net%2Fauth%2F2.0\" data-hook=\"vote-helpful-button\" aria-label=\"Mark Review As Helpful\" class=\"a-button-text\" id=\"a-autoid-190-announce\"><div class=\"cr-helpful-text\">\\n              Helpful</div>\\n          </a></span></span></div>\\n      </span><span class=\"cr-footer-line-height\">\\n        <span><i aria-hidden=\"true\" class=\"a-icon a-icon-text-separator\" role=\"img\" aria-label=\"|\"></i><span class=\"a-declarative\" data-action=\"reviews:report-abusive-review-modal-button\" data-csa-c-type=\"widget\" data-csa-c-func-deps=\"aui-da-reviews:report-abusive-review-modal-button\" data-reviews:report-abusive-review-modal-button=\"{&quot;closeButton&quot;:&quot;true&quot;,&quot;name&quot;:&quot;report-abusive-review-modal-popover-R2B1M7KSQR9R89&quot;,&quot;width&quot;:&quot;350&quot;,&quot;header&quot;:&quot;Report this review&quot;,&quot;url&quot;:&quot;/hz/reviews-render/report-review?ie=UTF8&amp;ref=cm_cr_dp_d_report&amp;csrfT=hIOIZEHi8u7V9JeUnU10TKvqCZDpDjY%2FNnpp3HZdGD8RAAAAAGeolEQAAAAB&amp;reviewId=R2B1M7KSQR9R89&quot;}\" id=\"report-abusive-review-modal-popover-R2B1M7KSQR9R89\" data-csa-c-id=\"8cppy0-vvqab3-u54vls-5z0umx\"><a aria-label=\"Report Review\" class=\"a-size-base a-link-normal a-color-secondary report-abuse-link a-text-normal\" href=\"/hz/reviews-render/report-review?ie=UTF8&amp;ref=cm_cr_dp_d_report&amp;csrfT=hIOIZEHi8u7V9JeUnU10TKvqCZDpDjY%2FNnpp3HZdGD8RAAAAAGeolEQAAAAB&amp;reviewId=R2B1M7KSQR9R89\">Report</a></span></span></span>\\n  </div></div></div></span></li><li id=\"R19Q38YJHPO0LV\" data-hook=\"review\" class=\"review aok-relative\"><span class=\"a-list-item\"><div id=\"R19Q38YJHPO0LV-review-card\" class=\"a-row a-spacing-none\"><div id=\"customer_review-R19Q38YJHPO0LV\" class=\"a-section celwidget\" data-csa-c-id=\"diej3s-f1h27b-pvpv3t-27lxd2\" data-cel-widget=\"customer_review-R19Q38YJHPO0LV\"><script>\\n  var metricsName = \"DesktopCredibleBadgesInTopReviewsDetailPageCount\"\\n</script>\\n<script>\\n      if(window.ue) {\\n        ue.count(metricsName, 0)\\n      }\\n    </script>\\n  <div data-hook=\"genome-widget\" class=\"a-row a-spacing-mini\"><a href=\"/gp/profile/amzn1.account.AH3ZPEMO2XTMN2LXFCPNSACHJODQ/ref=cm_cr_dp_d_gw_tr?ie=UTF8\" class=\"a-profile\" data-a-size=\"small\"><div aria-hidden=\"true\" class=\"a-profile-avatar-wrapper\"><div class=\"a-profile-avatar\"><img src=\"https://images-na.ssl-images-amazon.com/images/G/01/x-locale/common/grey-pixel.gif\" class=\"a-lazy-loaded\" data-src=\"https://m.media-amazon.com/images/S/amazon-avatars-global/66884977-84ea-48fb-8ec9-2d81c1366ba0._CR0%2C0%2C375%2C375_UX460_.jpg\"><noscript><img src=\"https://m.media-amazon.com/images/S/amazon-avatars-global/66884977-84ea-48fb-8ec9-2d81c1366ba0._CR0%2C0%2C375%2C375_UX460_.jpg\"/></noscript></div></div><div class=\"a-profile-content\"><span class=\"a-profile-name\">cabrob</span></div></a></div><div class=\"a-row\"><h5><a data-hook=\"review-title\" class=\"a-size-base a-link-normal review-title a-color-base review-title-content a-text-bold\" href=\"/gp/customer-reviews/R19Q38YJHPO0LV/ref=cm_cr_dp_d_rvw_ttl?ie=UTF8&amp;ASIN=B09TB15CTL\"><i data-hook=\"review-star-rating\" class=\"a-icon a-icon-star a-star-5 review-rating\"><span class=\"a-icon-alt\">5.0 out of 5 stars</span></i><span class=\"a-letter-space\"></span>\\n\\n\\n\\n\\n\\n\\n\\n  \\n  \\n    <span>good quality, block out yelling toddlers 😂</span>\\n  \\n</a></h5></div><span data-hook=\"review-date\" aria-level=\"6\" class=\"a-size-base a-color-secondary review-date\" role=\"heading\">Reviewed in the United States on December 13, 2024</span><div class=\"a-row a-spacing-mini review-data review-format-strip\"><span data-hook=\"format-strip-linkless\" class=\"a-color-secondary\">Color: White</span><i aria-hidden=\"true\" class=\"a-icon a-icon-text-separator\" role=\"img\" aria-label=\"|\"></i><a class=\"a-link-normal\" target=\"_blank\" rel=\"noopener\" href=\"/gp/help/customer/display.html/ref=cm_cr_dp_d_rvw_avp?nodeId=G8UYX7LALQC8V9KA\"><span data-hook=\"avp-badge-linkless\" class=\"a-size-mini a-color-state a-text-bold\">Verified Purchase</span></a></div><div class=\"a-row a-spacing-small review-data\"><span data-hook=\"review-body\" class=\"a-size-base review-text\"><div data-a-expander-name=\"review_text_read_more\" data-a-expander-collapsed-height=\"300\" class=\"a-expander-collapsed-height a-row a-expander-container a-expander-partial-collapse-container\" style=\"max-height:300px\"><div data-hook=\"review-collapsed\" data-expanded=\"false\" class=\"a-expander-content reviewText review-text-content a-expander-partial-collapse-content\">\\n\\n\\n\\n\\n\\n\\n\\n  \\n  \\n    <span>after having these headphones for several months i feel comfortable enough to leave a review. these are fairly great quality for the price. the sound quality is so good at about half way that i find it difficult to hear the chaos with two toddlers. 😂 (someone else is obviously watching them at this time) the mic is good and ive had no complaints when others hear me. overall the headphones feel good on my head/ears and everything seems to work amazingly well. 😊 very happy with this purchase, i feel like most times when buying cheaper end items they fail to work after about 6 months. but not these! plus they are extremely stylish!<br></span>\\n  \\n</div><div class=\"a-expander-header a-expander-partial-collapse-header\" style=\"opacity: 0; display: none;\"><div class=\"a-expander-content-fade\"></div><a href=\"javascript:void(0)\" data-csa-c-func-deps=\"aui-da-a-expander-toggle\" data-csa-c-type=\"widget\" data-csa-interaction-events=\"click\" data-hook=\"expand-collapse-read-more-less\" aria-label=\"Toggle full review text\" aria-expanded=\"false\" role=\"button\" data-action=\"a-expander-toggle\" class=\"a-declarative\" data-a-expander-toggle=\"{&quot;allowLinkDefault&quot;:true, &quot;expand_prompt&quot;:&quot;Read more&quot;, &quot;collapse_prompt&quot;:&quot;Read less&quot;}\" data-csa-c-id=\"rfdvwn-yprjsb-nf8xw9-l009q1\"><i class=\"a-icon a-icon-extender-expand\"></i><span class=\"a-expander-prompt\">Read more</span></a></div></div></span></div><div data-hook=\"review-comments\" class=\"a-row review-comments cr-vote-action-bar\"><span class=\"cr-vote\" data-hook=\"review-voting-widget\">\\n  <div class=\"a-row a-spacing-small\"><span data-hook=\"helpful-vote-statement\" class=\"a-size-base a-color-tertiary cr-vote-text\">11 people found this helpful</span></div><!-- Components for Reactions C -->\\n    <div class=\"cr-helpful-button aok-float-left\">\\n          <span class=\"a-button a-button-base\" id=\"a-autoid-191\"><span class=\"a-button-inner\"><a href=\"https://www.amazon.com/ap/signin?openid.return_to=https%3A%2F%2Fwww.amazon.com%2Fdp%2FB09TB15CTL%2Fref%3Dcm_cr_dp_d_vote_lft%3Fie%3DUTF8%26csrfT%3DhOLzKUV2OLbk0xueChSu857bDhaeSWo5whvU5L5dH3q6AAAAAGeolEQAAAAB%26reviewId%3DR19Q38YJHPO0LV%23R19Q38YJHPO0LV&amp;openid.identity=http%3A%2F%2Fspecs.openid.net%2Fauth%2F2.0%2Fidentifier_select&amp;openid.assoc_handle=usflex&amp;openid.mode=checkid_setup&amp;marketPlaceId=ATVPDKIKX0DER&amp;language=en&amp;openid.claimed_id=http%3A%2F%2Fspecs.openid.net%2Fauth%2F2.0%2Fidentifier_select&amp;openid.ns=http%3A%2F%2Fspecs.openid.net%2Fauth%2F2.0\" data-hook=\"vote-helpful-button\" aria-label=\"Mark Review As Helpful\" class=\"a-button-text\" id=\"a-autoid-191-announce\"><div class=\"cr-helpful-text\">\\n              Helpful</div>\\n          </a></span></span></div>\\n      </span><span class=\"cr-footer-line-height\">\\n        <span><i aria-hidden=\"true\" class=\"a-icon a-icon-text-separator\" role=\"img\" aria-label=\"|\"></i><span class=\"a-declarative\" data-action=\"reviews:report-abusive-review-modal-button\" data-csa-c-type=\"widget\" data-csa-c-func-deps=\"aui-da-reviews:report-abusive-review-modal-button\" data-reviews:report-abusive-review-modal-button=\"{&quot;closeButton&quot;:&quot;true&quot;,&quot;name&quot;:&quot;report-abusive-review-modal-popover-R19Q38YJHPO0LV&quot;,&quot;width&quot;:&quot;350&quot;,&quot;header&quot;:&quot;Report this review&quot;,&quot;url&quot;:&quot;/hz/reviews-render/report-review?ie=UTF8&amp;ref=cm_cr_dp_d_report&amp;csrfT=hOLzKUV2OLbk0xueChSu857bDhaeSWo5whvU5L5dH3q6AAAAAGeolEQAAAAB&amp;reviewId=R19Q38YJHPO0LV&quot;}\" id=\"report-abusive-review-modal-popover-R19Q38YJHPO0LV\" data-csa-c-id=\"6fk54e-pjfthc-qokfo5-1rmrn8\"><a aria-label=\"Report Review\" class=\"a-size-base a-link-normal a-color-secondary report-abuse-link a-text-normal\" href=\"/hz/reviews-render/report-review?ie=UTF8&amp;ref=cm_cr_dp_d_report&amp;csrfT=hOLzKUV2OLbk0xueChSu857bDhaeSWo5whvU5L5dH3q6AAAAAGeolEQAAAAB&amp;reviewId=R19Q38YJHPO0LV\">Report</a></span></span></span>\\n  </div></div></div></span></li><li id=\"R2FRL7LBZYCU2\" data-hook=\"review\" class=\"review aok-relative\"><span class=\"a-list-item\"><div id=\"R2FRL7LBZYCU2-review-card\" class=\"a-row a-spacing-none\"><div id=\"customer_review-R2FRL7LBZYCU2\" class=\"a-section celwidget\" data-csa-c-id=\"ugusgi-6kg9ae-7lij7n-okug16\" data-cel-widget=\"customer_review-R2FRL7LBZYCU2\"><script>\\n  var metricsName = \"DesktopCredibleBadgesInTopReviewsDetailPageCount\"\\n</script>\\n<script>\\n      if(window.ue) {\\n        ue.count(metricsName, 0)\\n      }\\n    </script>\\n  <div data-hook=\"genome-widget\" class=\"a-row a-spacing-mini\"><a href=\"/gp/profile/amzn1.account.AGOTUEGD6ODYZKUCSNBUTMZOYOGQ/ref=cm_cr_dp_d_gw_tr?ie=UTF8\" class=\"a-profile\" data-a-size=\"small\"><div aria-hidden=\"true\" class=\"a-profile-avatar-wrapper\"><div class=\"a-profile-avatar\"><img src=\"https://images-na.ssl-images-amazon.com/images/G/01/x-locale/common/grey-pixel.gif\" class=\"a-lazy-loaded\" data-src=\"https://m.media-amazon.com/images/S/amazon-avatars-global/default.png\"><noscript><img src=\"https://m.media-amazon.com/images/S/amazon-avatars-global/default.png\"/></noscript></div></div><div class=\"a-profile-content\"><span class=\"a-profile-name\">Stephanie</span></div></a></div><div class=\"a-row\"><h5><a data-hook=\"review-title\" class=\"a-size-base a-link-normal review-title a-color-base review-title-content a-text-bold\" href=\"/gp/customer-reviews/R2FRL7LBZYCU2/ref=cm_cr_dp_d_rvw_ttl?ie=UTF8&amp;ASIN=B09TB15CTL\"><i data-hook=\"review-star-rating\" class=\"a-icon a-icon-star a-star-4 review-rating\"><span class=\"a-icon-alt\">4.0 out of 5 stars</span></i><span class=\"a-letter-space\"></span>\\n\\n\\n\\n\\n\\n\\n\\n  \\n  \\n    <span>Great headphones</span>\\n  \\n</a></h5></div><span data-hook=\"review-date\" aria-level=\"6\" class=\"a-size-base a-color-secondary review-date\" role=\"heading\">Reviewed in the United States on December 28, 2024</span><div class=\"a-row a-spacing-mini review-data review-format-strip\"><span data-hook=\"format-strip-linkless\" class=\"a-color-secondary\">Color: White</span><i aria-hidden=\"true\" class=\"a-icon a-icon-text-separator\" role=\"img\" aria-label=\"|\"></i><a class=\"a-link-normal\" target=\"_blank\" rel=\"noopener\" href=\"/gp/help/customer/display.html/ref=cm_cr_dp_d_rvw_avp?nodeId=G8UYX7LALQC8V9KA\"><span data-hook=\"avp-badge-linkless\" class=\"a-size-mini a-color-state a-text-bold\">Verified Purchase</span></a></div><div class=\"a-row a-spacing-small review-data\"><span data-hook=\"review-body\" class=\"a-size-base review-text\"><div data-a-expander-name=\"review_text_read_more\" data-a-expander-collapsed-height=\"300\" class=\"a-expander-collapsed-height a-row a-expander-container a-expander-partial-collapse-container\" style=\"max-height:300px\"><div data-hook=\"review-collapsed\" data-expanded=\"false\" class=\"a-expander-content reviewText review-text-content a-expander-partial-collapse-content\">\\n\\n\\n\\n\\n\\n\\n\\n  \\n  \\n    <span>Easy to use and they look great. My daughter also said they have great sound. The only thing I wasn\\'t a fan of was having to plug the headphones into the Playstation with a different cable to get the headphones to light up. Lots of wires hanging around.<br></span>\\n  \\n</div><div class=\"a-expander-header a-expander-partial-collapse-header\" style=\"opacity: 0; display: none;\"><div class=\"a-expander-content-fade\"></div><a href=\"javascript:void(0)\" data-csa-c-func-deps=\"aui-da-a-expander-toggle\" data-csa-c-type=\"widget\" data-csa-interaction-events=\"click\" data-hook=\"expand-collapse-read-more-less\" aria-label=\"Toggle full review text\" aria-expanded=\"false\" role=\"button\" data-action=\"a-expander-toggle\" class=\"a-declarative\" data-a-expander-toggle=\"{&quot;allowLinkDefault&quot;:true, &quot;expand_prompt&quot;:&quot;Read more&quot;, &quot;collapse_prompt&quot;:&quot;Read less&quot;}\" data-csa-c-id=\"yx8chk-cymout-fbgh15-4dvxsj\"><i class=\"a-icon a-icon-extender-expand\"></i><span class=\"a-expander-prompt\">Read more</span></a></div></div></span></div><div data-hook=\"review-comments\" class=\"a-row review-comments cr-vote-action-bar\"><span class=\"cr-vote\" data-hook=\"review-voting-widget\">\\n  <div class=\"a-row a-spacing-small\"><span data-hook=\"helpful-vote-statement\" class=\"a-size-base a-color-tertiary cr-vote-text\">One person found this helpful</span></div><!-- Components for Reactions C -->\\n    <div class=\"cr-helpful-button aok-float-left\">\\n          <span class=\"a-button a-button-base\" id=\"a-autoid-192\"><span class=\"a-button-inner\"><a href=\"https://www.amazon.com/ap/signin?openid.return_to=https%3A%2F%2Fwww.amazon.com%2Fdp%2FB09TB15CTL%2Fref%3Dcm_cr_dp_d_vote_lft%3Fie%3DUTF8%26csrfT%3DhCKWUhslVZC1SMCj1ZtS4cpe0W74RBLtNVsJHzRI9sArAAAAAGeolEQAAAAB%26reviewId%3DR2FRL7LBZYCU2%23R2FRL7LBZYCU2&amp;openid.identity=http%3A%2F%2Fspecs.openid.net%2Fauth%2F2.0%2Fidentifier_select&amp;openid.assoc_handle=usflex&amp;openid.mode=checkid_setup&amp;marketPlaceId=ATVPDKIKX0DER&amp;language=en&amp;openid.claimed_id=http%3A%2F%2Fspecs.openid.net%2Fauth%2F2.0%2Fidentifier_select&amp;openid.ns=http%3A%2F%2Fspecs.openid.net%2Fauth%2F2.0\" data-hook=\"vote-helpful-button\" aria-label=\"Mark Review As Helpful\" class=\"a-button-text\" id=\"a-autoid-192-announce\"><div class=\"cr-helpful-text\">\\n              Helpful</div>\\n          </a></span></span></div>\\n      </span><span class=\"cr-footer-line-height\">\\n        <span><i aria-hidden=\"true\" class=\"a-icon a-icon-text-separator\" role=\"img\" aria-label=\"|\"></i><span class=\"a-declarative\" data-action=\"reviews:report-abusive-review-modal-button\" data-csa-c-type=\"widget\" data-csa-c-func-deps=\"aui-da-reviews:report-abusive-review-modal-button\" data-reviews:report-abusive-review-modal-button=\"{&quot;closeButton&quot;:&quot;true&quot;,&quot;name&quot;:&quot;report-abusive-review-modal-popover-R2FRL7LBZYCU2&quot;,&quot;width&quot;:&quot;350&quot;,&quot;header&quot;:&quot;Report this review&quot;,&quot;url&quot;:&quot;/hz/reviews-render/report-review?ie=UTF8&amp;ref=cm_cr_dp_d_report&amp;csrfT=hCKWUhslVZC1SMCj1ZtS4cpe0W74RBLtNVsJHzRI9sArAAAAAGeolEQAAAAB&amp;reviewId=R2FRL7LBZYCU2&quot;}\" id=\"report-abusive-review-modal-popover-R2FRL7LBZYCU2\" data-csa-c-id=\"3k08m1-w4c8bh-16lxjd-c1h12x\"><a aria-label=\"Report Review\" class=\"a-size-base a-link-normal a-color-secondary report-abuse-link a-text-normal\" href=\"/hz/reviews-render/report-review?ie=UTF8&amp;ref=cm_cr_dp_d_report&amp;csrfT=hCKWUhslVZC1SMCj1ZtS4cpe0W74RBLtNVsJHzRI9sArAAAAAGeolEQAAAAB&amp;reviewId=R2FRL7LBZYCU2\">Report</a></span></span></span>\\n  </div></div></div></span></li><li id=\"RZR5IRTEAWYWM\" data-hook=\"review\" class=\"review aok-relative\"><span class=\"a-list-item\"><div id=\"RZR5IRTEAWYWM-review-card\" class=\"a-row a-spacing-none\"><div id=\"customer_review-RZR5IRTEAWYWM\" class=\"a-section celwidget\" data-csa-c-id=\"x1ufe1-7jkm1i-pehe9a-u6f0wo\" data-cel-widget=\"customer_review-RZR5IRTEAWYWM\"><script>\\n  var metricsName = \"DesktopCredibleBadgesInTopReviewsDetailPageCount\"\\n</script>\\n<script>\\n      if(window.ue) {\\n        ue.count(metricsName, 0)\\n      }\\n    </script>\\n  <div data-hook=\"genome-widget\" class=\"a-row a-spacing-mini\"><a href=\"/gp/profile/amzn1.account.AFIRUDKAMTHWEN47BBASP62262LQ/ref=cm_cr_dp_d_gw_tr?ie=UTF8\" class=\"a-profile\" data-a-size=\"small\"><div aria-hidden=\"true\" class=\"a-profile-avatar-wrapper\"><div class=\"a-profile-avatar\"><img src=\"https://images-na.ssl-images-amazon.com/images/G/01/x-locale/common/grey-pixel.gif\" class=\"a-lazy-loaded\" data-src=\"https://m.media-amazon.com/images/S/amazon-avatars-global/default.png\"><noscript><img src=\"https://m.media-amazon.com/images/S/amazon-avatars-global/default.png\"/></noscript></div></div><div class=\"a-profile-content\"><span class=\"a-profile-name\">James wells</span></div></a></div><div class=\"a-row\"><h5><a data-hook=\"review-title\" class=\"a-size-base a-link-normal review-title a-color-base review-title-content a-text-bold\" href=\"/gp/customer-reviews/RZR5IRTEAWYWM/ref=cm_cr_dp_d_rvw_ttl?ie=UTF8&amp;ASIN=B09TB15CTL\"><i data-hook=\"review-star-rating\" class=\"a-icon a-icon-star a-star-5 review-rating\"><span class=\"a-icon-alt\">5.0 out of 5 stars</span></i><span class=\"a-letter-space\"></span>\\n\\n\\n\\n\\n\\n\\n\\n  \\n  \\n    <span>Ozeino Gaming Headset Review</span>\\n  \\n</a></h5></div><span data-hook=\"review-date\" aria-level=\"6\" class=\"a-size-base a-color-secondary review-date\" role=\"heading\">Reviewed in the United States on December 20, 2024</span><div class=\"a-row a-spacing-mini review-data review-format-strip\"><span data-hook=\"format-strip-linkless\" class=\"a-color-secondary\">Color: White</span><i aria-hidden=\"true\" class=\"a-icon a-icon-text-separator\" role=\"img\" aria-label=\"|\"></i><a class=\"a-link-normal\" target=\"_blank\" rel=\"noopener\" href=\"/gp/help/customer/display.html/ref=cm_cr_dp_d_rvw_avp?nodeId=G8UYX7LALQC8V9KA\"><span data-hook=\"avp-badge-linkless\" class=\"a-size-mini a-color-state a-text-bold\">Verified Purchase</span></a></div><div class=\"a-row a-spacing-small review-data\"><span data-hook=\"review-body\" class=\"a-size-base review-text\"><div data-a-expander-name=\"review_text_read_more\" data-a-expander-collapsed-height=\"300\" class=\"a-expander-collapsed-height a-row a-expander-container a-expander-partial-collapse-container\" style=\"max-height:300px\"><div data-hook=\"review-collapsed\" data-expanded=\"false\" class=\"a-expander-content reviewText review-text-content a-expander-partial-collapse-content\">\\n\\n\\n\\n\\n\\n\\n\\n  \\n  \\n    <span>The Ozeino Gaming Headset delivers impressive sound quality with powerful bass and crisp highs, perfect for gaming and media. Its lightweight design and soft ear cushions ensure long-lasting comfort, while the noise-canceling mic ensures clear communication. Built with durable materials and featuring vibrant RGB lighting, it’s stylish and sturdy. Though it lacks advanced features like Bluetooth, its compatibility with PCs, consoles, and mobile devices makes it a solid choice at an affordable price.<br></span>\\n  \\n</div><div class=\"a-expander-header a-expander-partial-collapse-header\" style=\"opacity: 0; display: none;\"><div class=\"a-expander-content-fade\"></div><a href=\"javascript:void(0)\" data-csa-c-func-deps=\"aui-da-a-expander-toggle\" data-csa-c-type=\"widget\" data-csa-interaction-events=\"click\" data-hook=\"expand-collapse-read-more-less\" aria-label=\"Toggle full review text\" aria-expanded=\"false\" role=\"button\" data-action=\"a-expander-toggle\" class=\"a-declarative\" data-a-expander-toggle=\"{&quot;allowLinkDefault&quot;:true, &quot;expand_prompt&quot;:&quot;Read more&quot;, &quot;collapse_prompt&quot;:&quot;Read less&quot;}\" data-csa-c-id=\"clwnie-pqoksr-yt8ljt-u2lq9t\"><i class=\"a-icon a-icon-extender-expand\"></i><span class=\"a-expander-prompt\">Read more</span></a></div></div></span></div><div data-hook=\"review-comments\" class=\"a-row review-comments cr-vote-action-bar\"><span class=\"cr-vote\" data-hook=\"review-voting-widget\">\\n  <div class=\"a-row a-spacing-small\"><span data-hook=\"helpful-vote-statement\" class=\"a-size-base a-color-tertiary cr-vote-text\">2 people found this helpful</span></div><!-- Components for Reactions C -->\\n    <div class=\"cr-helpful-button aok-float-left\">\\n          <span class=\"a-button a-button-base\" id=\"a-autoid-193\"><span class=\"a-button-inner\"><a href=\"https://www.amazon.com/ap/signin?openid.return_to=https%3A%2F%2Fwww.amazon.com%2Fdp%2FB09TB15CTL%2Fref%3Dcm_cr_dp_d_vote_lft%3Fie%3DUTF8%26csrfT%3DhBVAgCvKoZY2vRLSRshV%252FnLvdzs4GTAnMlF%252BmYZ%252B7tWcAAAAAGeolEQAAAAB%26reviewId%3DRZR5IRTEAWYWM%23RZR5IRTEAWYWM&amp;openid.identity=http%3A%2F%2Fspecs.openid.net%2Fauth%2F2.0%2Fidentifier_select&amp;openid.assoc_handle=usflex&amp;openid.mode=checkid_setup&amp;marketPlaceId=ATVPDKIKX0DER&amp;language=en&amp;openid.claimed_id=http%3A%2F%2Fspecs.openid.net%2Fauth%2F2.0%2Fidentifier_select&amp;openid.ns=http%3A%2F%2Fspecs.openid.net%2Fauth%2F2.0\" data-hook=\"vote-helpful-button\" aria-label=\"Mark Review As Helpful\" class=\"a-button-text\" id=\"a-autoid-193-announce\"><div class=\"cr-helpful-text\">\\n              Helpful</div>\\n          </a></span></span></div>\\n      </span><span class=\"cr-footer-line-height\">\\n        <span><i aria-hidden=\"true\" class=\"a-icon a-icon-text-separator\" role=\"img\" aria-label=\"|\"></i><span class=\"a-declarative\" data-action=\"reviews:report-abusive-review-modal-button\" data-csa-c-type=\"widget\" data-csa-c-func-deps=\"aui-da-reviews:report-abusive-review-modal-button\" data-reviews:report-abusive-review-modal-button=\"{&quot;closeButton&quot;:&quot;true&quot;,&quot;name&quot;:&quot;report-abusive-review-modal-popover-RZR5IRTEAWYWM&quot;,&quot;width&quot;:&quot;350&quot;,&quot;header&quot;:&quot;Report this review&quot;,&quot;url&quot;:&quot;/hz/reviews-render/report-review?ie=UTF8&amp;ref=cm_cr_dp_d_report&amp;csrfT=hBVAgCvKoZY2vRLSRshV%2FnLvdzs4GTAnMlF%2BmYZ%2B7tWcAAAAAGeolEQAAAAB&amp;reviewId=RZR5IRTEAWYWM&quot;}\" id=\"report-abusive-review-modal-popover-RZR5IRTEAWYWM\" data-csa-c-id=\"3uv6iy-oc7a8l-oqmqyw-4xkoxq\"><a aria-label=\"Report Review\" class=\"a-size-base a-link-normal a-color-secondary report-abuse-link a-text-normal\" href=\"/hz/reviews-render/report-review?ie=UTF8&amp;ref=cm_cr_dp_d_report&amp;csrfT=hBVAgCvKoZY2vRLSRshV%2FnLvdzs4GTAnMlF%2BmYZ%2B7tWcAAAAAGeolEQAAAAB&amp;reviewId=RZR5IRTEAWYWM\">Report</a></span></span></span>\\n  </div></div></div></span></li><li id=\"R1JG02BIO9DRGA\" data-hook=\"review\" class=\"review aok-relative\"><span class=\"a-list-item\"><div id=\"R1JG02BIO9DRGA-review-card\" class=\"a-row a-spacing-none\"><div id=\"customer_review-R1JG02BIO9DRGA\" class=\"a-section celwidget\" data-csa-c-id=\"iwbpbc-lgkbhy-on2kdg-m3p3g6\" data-cel-widget=\"customer_review-R1JG02BIO9DRGA\"><script>\\n  var metricsName = \"DesktopCredibleBadgesInTopReviewsDetailPageCount\"\\n</script>\\n<script>\\n      if(window.ue) {\\n        ue.count(metricsName, 0)\\n      }\\n    </script>\\n  <div data-hook=\"genome-widget\" class=\"a-row a-spacing-mini\"><a href=\"/gp/profile/amzn1.account.AHLULTFOZLQIAJS6XMZYCZK2ZAOA/ref=cm_cr_dp_d_gw_tr?ie=UTF8\" class=\"a-profile\" data-a-size=\"small\"><div aria-hidden=\"true\" class=\"a-profile-avatar-wrapper\"><div class=\"a-profile-avatar\"><img src=\"https://images-na.ssl-images-amazon.com/images/G/01/x-locale/common/grey-pixel.gif\" class=\"a-lazy-loaded\" data-src=\"https://m.media-amazon.com/images/S/amazon-avatars-global/default.png\"><noscript><img src=\"https://m.media-amazon.com/images/S/amazon-avatars-global/default.png\"/></noscript></div></div><div class=\"a-profile-content\"><span class=\"a-profile-name\">Erica Wilson</span></div></a></div><div class=\"a-row\"><h5><a data-hook=\"review-title\" class=\"a-size-base a-link-normal review-title a-color-base review-title-content a-text-bold\" href=\"/gp/customer-reviews/R1JG02BIO9DRGA/ref=cm_cr_dp_d_rvw_ttl?ie=UTF8&amp;ASIN=B09TB15CTL\"><i data-hook=\"review-star-rating\" class=\"a-icon a-icon-star a-star-5 review-rating\"><span class=\"a-icon-alt\">5.0 out of 5 stars</span></i><span class=\"a-letter-space\"></span>\\n\\n\\n\\n\\n\\n\\n\\n  \\n  \\n    <span>Excellent Product</span>\\n  \\n</a></h5></div><span data-hook=\"review-date\" aria-level=\"6\" class=\"a-size-base a-color-secondary review-date\" role=\"heading\">Reviewed in the United States on January 22, 2025</span><div class=\"a-row a-spacing-mini review-data review-format-strip\"><span data-hook=\"format-strip-linkless\" class=\"a-color-secondary\">Color: White</span><i aria-hidden=\"true\" class=\"a-icon a-icon-text-separator\" role=\"img\" aria-label=\"|\"></i><a class=\"a-link-normal\" target=\"_blank\" rel=\"noopener\" href=\"/gp/help/customer/display.html/ref=cm_cr_dp_d_rvw_avp?nodeId=G8UYX7LALQC8V9KA\"><span data-hook=\"avp-badge-linkless\" class=\"a-size-mini a-color-state a-text-bold\">Verified Purchase</span></a></div><div class=\"a-row a-spacing-small review-data\"><span data-hook=\"review-body\" class=\"a-size-base review-text\"><div data-a-expander-name=\"review_text_read_more\" data-a-expander-collapsed-height=\"300\" class=\"a-expander-collapsed-height a-row a-expander-container a-expander-partial-collapse-container\" style=\"max-height:300px\"><div data-hook=\"review-collapsed\" data-expanded=\"false\" class=\"a-expander-content reviewText review-text-content a-expander-partial-collapse-content\">\\n\\n\\n\\n\\n\\n\\n\\n  \\n  \\n    <span>Excellent Gaming Headphones. Works great with our XBox1. Super cool design! Comfortable for hours of gaming. Clear sound and microphone works great.  Would definitely buy again!<br></span>\\n  \\n</div><div class=\"a-expander-header a-expander-partial-collapse-header\" style=\"opacity: 0; display: none;\"><div class=\"a-expander-content-fade\"></div><a href=\"javascript:void(0)\" data-csa-c-func-deps=\"aui-da-a-expander-toggle\" data-csa-c-type=\"widget\" data-csa-interaction-events=\"click\" data-hook=\"expand-collapse-read-more-less\" aria-label=\"Toggle full review text\" aria-expanded=\"false\" role=\"button\" data-action=\"a-expander-toggle\" class=\"a-declarative\" data-a-expander-toggle=\"{&quot;allowLinkDefault&quot;:true, &quot;expand_prompt&quot;:&quot;Read more&quot;, &quot;collapse_prompt&quot;:&quot;Read less&quot;}\" data-csa-c-id=\"wl6mpy-y8qegv-7yusii-7hzc3d\"><i class=\"a-icon a-icon-extender-expand\"></i><span class=\"a-expander-prompt\">Read more</span></a></div></div></span></div><div data-hook=\"review-comments\" class=\"a-row review-comments cr-vote-action-bar\"><span class=\"cr-vote\" data-hook=\"review-voting-widget\">\\n  <div class=\"a-row a-spacing-small\"><span data-hook=\"helpful-vote-statement\" class=\"a-size-base a-color-tertiary cr-vote-text\">2 people found this helpful</span></div><!-- Components for Reactions C -->\\n    <div class=\"cr-helpful-button aok-float-left\">\\n          <span class=\"a-button a-button-base\" id=\"a-autoid-194\"><span class=\"a-button-inner\"><a href=\"https://www.amazon.com/ap/signin?openid.return_to=https%3A%2F%2Fwww.amazon.com%2Fdp%2FB09TB15CTL%2Fref%3Dcm_cr_dp_d_vote_lft%3Fie%3DUTF8%26csrfT%3DhJfBDqcK4kEmU1vBD9Wgw87V14ObXh%252F4tiLcB%252FSQLPqxAAAAAGeolEQAAAAB%26reviewId%3DR1JG02BIO9DRGA%23R1JG02BIO9DRGA&amp;openid.identity=http%3A%2F%2Fspecs.openid.net%2Fauth%2F2.0%2Fidentifier_select&amp;openid.assoc_handle=usflex&amp;openid.mode=checkid_setup&amp;marketPlaceId=ATVPDKIKX0DER&amp;language=en&amp;openid.claimed_id=http%3A%2F%2Fspecs.openid.net%2Fauth%2F2.0%2Fidentifier_select&amp;openid.ns=http%3A%2F%2Fspecs.openid.net%2Fauth%2F2.0\" data-hook=\"vote-helpful-button\" aria-label=\"Mark Review As Helpful\" class=\"a-button-text\" id=\"a-autoid-194-announce\"><div class=\"cr-helpful-text\">\\n              Helpful</div>\\n          </a></span></span></div>\\n      </span><span class=\"cr-footer-line-height\">\\n        <span><i aria-hidden=\"true\" class=\"a-icon a-icon-text-separator\" role=\"img\" aria-label=\"|\"></i><span class=\"a-declarative\" data-action=\"reviews:report-abusive-review-modal-button\" data-csa-c-type=\"widget\" data-csa-c-func-deps=\"aui-da-reviews:report-abusive-review-modal-button\" data-reviews:report-abusive-review-modal-button=\"{&quot;closeButton&quot;:&quot;true&quot;,&quot;name&quot;:&quot;report-abusive-review-modal-popover-R1JG02BIO9DRGA&quot;,&quot;width&quot;:&quot;350&quot;,&quot;header&quot;:&quot;Report this review&quot;,&quot;url&quot;:&quot;/hz/reviews-render/report-review?ie=UTF8&amp;ref=cm_cr_dp_d_report&amp;csrfT=hJfBDqcK4kEmU1vBD9Wgw87V14ObXh%2F4tiLcB%2FSQLPqxAAAAAGeolEQAAAAB&amp;reviewId=R1JG02BIO9DRGA&quot;}\" id=\"report-abusive-review-modal-popover-R1JG02BIO9DRGA\" data-csa-c-id=\"jlur9d-jwus6s-5k16p6-i4aqee\"><a aria-label=\"Report Review\" class=\"a-size-base a-link-normal a-color-secondary report-abuse-link a-text-normal\" href=\"/hz/reviews-render/report-review?ie=UTF8&amp;ref=cm_cr_dp_d_report&amp;csrfT=hJfBDqcK4kEmU1vBD9Wgw87V14ObXh%2F4tiLcB%2FSQLPqxAAAAAGeolEQAAAAB&amp;reviewId=R1JG02BIO9DRGA\">Report</a></span></span></span>\\n  </div></div></div></span></li><li id=\"R1HOR140KCVGOD\" data-hook=\"review\" class=\"review aok-relative\"><span class=\"a-list-item\"><div id=\"R1HOR140KCVGOD-review-card\" class=\"a-row a-spacing-none\"><div id=\"customer_review-R1HOR140KCVGOD\" class=\"a-section celwidget\" data-csa-c-id=\"m1d9kh-pb3hkn-bc90nc-sctbyr\" data-cel-widget=\"customer_review-R1HOR140KCVGOD\"><script>\\n  var metricsName = \"DesktopCredibleBadgesInTopReviewsDetailPageCount\"\\n</script>\\n<script>\\n      if(window.ue) {\\n        ue.count(metricsName, 0)\\n      }\\n    </script>\\n  <div data-hook=\"genome-widget\" class=\"a-row a-spacing-mini\"><a href=\"/gp/profile/amzn1.account.AECHE4WFO4MITK3TMW5L2VWKBXBA/ref=cm_cr_dp_d_gw_tr?ie=UTF8\" class=\"a-profile\" data-a-size=\"small\"><div aria-hidden=\"true\" class=\"a-profile-avatar-wrapper\"><div class=\"a-profile-avatar\"><img src=\"https://images-na.ssl-images-amazon.com/images/G/01/x-locale/common/grey-pixel.gif\" class=\"a-lazy-loaded\" data-src=\"https://m.media-amazon.com/images/S/amazon-avatars-global/548abe99-fe19-41ea-87ed-9b9661322b31._CR0%2C0%2C375%2C375_UX460_.jpg\"><noscript><img src=\"https://m.media-amazon.com/images/S/amazon-avatars-global/548abe99-fe19-41ea-87ed-9b9661322b31._CR0%2C0%2C375%2C375_UX460_.jpg\"/></noscript></div></div><div class=\"a-profile-content\"><span class=\"a-profile-name\">Shaune Drake</span></div></a></div><div class=\"a-row\"><h5><a data-hook=\"review-title\" class=\"a-size-base a-link-normal review-title a-color-base review-title-content a-text-bold\" href=\"/gp/customer-reviews/R1HOR140KCVGOD/ref=cm_cr_dp_d_rvw_ttl?ie=UTF8&amp;ASIN=B09TB15CTL\"><i data-hook=\"review-star-rating\" class=\"a-icon a-icon-star a-star-5 review-rating\"><span class=\"a-icon-alt\">5.0 out of 5 stars</span></i><span class=\"a-letter-space\"></span>\\n\\n\\n\\n\\n\\n\\n\\n  \\n  \\n    <span>This Thing Rocks!!!!</span>\\n  \\n</a></h5></div><span data-hook=\"review-date\" aria-level=\"6\" class=\"a-size-base a-color-secondary review-date\" role=\"heading\">Reviewed in the United States on January 2, 2025</span><div class=\"a-row a-spacing-mini review-data review-format-strip\"><span data-hook=\"format-strip-linkless\" class=\"a-color-secondary\">Color: White</span><i aria-hidden=\"true\" class=\"a-icon a-icon-text-separator\" role=\"img\" aria-label=\"|\"></i><a class=\"a-link-normal\" target=\"_blank\" rel=\"noopener\" href=\"/gp/help/customer/display.html/ref=cm_cr_dp_d_rvw_avp?nodeId=G8UYX7LALQC8V9KA\"><span data-hook=\"avp-badge-linkless\" class=\"a-size-mini a-color-state a-text-bold\">Verified Purchase</span></a></div><div class=\"a-row a-spacing-small review-data\"><span data-hook=\"review-body\" class=\"a-size-base review-text\"><div data-a-expander-name=\"review_text_read_more\" data-a-expander-collapsed-height=\"300\" class=\"a-expander-collapsed-height a-row a-expander-container a-expander-partial-collapse-container\" style=\"max-height:300px\"><div data-hook=\"review-collapsed\" data-expanded=\"false\" class=\"a-expander-content reviewText review-text-content a-expander-partial-collapse-content\">\\n\\n\\n\\n\\n\\n\\n\\n  \\n  \\n    <span>I don\\'t play many multiplayer games anymore that require voice chat, but my son wanted me to join his voyages on Sea of Theives for the Xbox, so I bought this to try out.<br><br>It was perfect! I was able to hear everything going on around me as our ship was set a blaze by much better players. I have used a few of these in the past and this one stands above the rest in price and quality. Fits the budget perfectly.<br><br>The fact that the microphone can articulate closer to your mouth, instead of just a up and down movement is a major plus.<br><br>I will definitely be buying another for backup purposes!<br></span>\\n  \\n</div><div class=\"a-expander-header a-expander-partial-collapse-header\" style=\"opacity: 0; display: none;\"><div class=\"a-expander-content-fade\"></div><a href=\"javascript:void(0)\" data-csa-c-func-deps=\"aui-da-a-expander-toggle\" data-csa-c-type=\"widget\" data-csa-interaction-events=\"click\" data-hook=\"expand-collapse-read-more-less\" aria-label=\"Toggle full review text\" aria-expanded=\"false\" role=\"button\" data-action=\"a-expander-toggle\" class=\"a-declarative\" data-a-expander-toggle=\"{&quot;allowLinkDefault&quot;:true, &quot;expand_prompt&quot;:&quot;Read more&quot;, &quot;collapse_prompt&quot;:&quot;Read less&quot;}\" data-csa-c-id=\"qdselo-wi0zpy-lmclrm-15hm6e\"><i class=\"a-icon a-icon-extender-expand\"></i><span class=\"a-expander-prompt\">Read more</span></a></div></div></span></div><div data-hook=\"review-comments\" class=\"a-row review-comments cr-vote-action-bar\"><span class=\"cr-vote\" data-hook=\"review-voting-widget\">\\n  <div class=\"a-row a-spacing-small\"><span data-hook=\"helpful-vote-statement\" class=\"a-size-base a-color-tertiary cr-vote-text\">6 people found this helpful</span></div><!-- Components for Reactions C -->\\n    <div class=\"cr-helpful-button aok-float-left\">\\n          <span class=\"a-button a-button-base\" id=\"a-autoid-195\"><span class=\"a-button-inner\"><a href=\"https://www.amazon.com/ap/signin?openid.return_to=https%3A%2F%2Fwww.amazon.com%2Fdp%2FB09TB15CTL%2Fref%3Dcm_cr_dp_d_vote_lft%3Fie%3DUTF8%26csrfT%3DhLIdcUVsRnV3md1joVHSaOnCPjON3is7gLy1XOeNgZsnAAAAAGeolEQAAAAB%26reviewId%3DR1HOR140KCVGOD%23R1HOR140KCVGOD&amp;openid.identity=http%3A%2F%2Fspecs.openid.net%2Fauth%2F2.0%2Fidentifier_select&amp;openid.assoc_handle=usflex&amp;openid.mode=checkid_setup&amp;marketPlaceId=ATVPDKIKX0DER&amp;language=en&amp;openid.claimed_id=http%3A%2F%2Fspecs.openid.net%2Fauth%2F2.0%2Fidentifier_select&amp;openid.ns=http%3A%2F%2Fspecs.openid.net%2Fauth%2F2.0\" data-hook=\"vote-helpful-button\" aria-label=\"Mark Review As Helpful\" class=\"a-button-text\" id=\"a-autoid-195-announce\"><div class=\"cr-helpful-text\">\\n              Helpful</div>\\n          </a></span></span></div>\\n      </span><span class=\"cr-footer-line-height\">\\n        <span><i aria-hidden=\"true\" class=\"a-icon a-icon-text-separator\" role=\"img\" aria-label=\"|\"></i><span class=\"a-declarative\" data-action=\"reviews:report-abusive-review-modal-button\" data-csa-c-type=\"widget\" data-csa-c-func-deps=\"aui-da-reviews:report-abusive-review-modal-button\" data-reviews:report-abusive-review-modal-button=\"{&quot;closeButton&quot;:&quot;true&quot;,&quot;name&quot;:&quot;report-abusive-review-modal-popover-R1HOR140KCVGOD&quot;,&quot;width&quot;:&quot;350&quot;,&quot;header&quot;:&quot;Report this review&quot;,&quot;url&quot;:&quot;/hz/reviews-render/report-review?ie=UTF8&amp;ref=cm_cr_dp_d_report&amp;csrfT=hLIdcUVsRnV3md1joVHSaOnCPjON3is7gLy1XOeNgZsnAAAAAGeolEQAAAAB&amp;reviewId=R1HOR140KCVGOD&quot;}\" id=\"report-abusive-review-modal-popover-R1HOR140KCVGOD\" data-csa-c-id=\"ukbc1d-qwdvc9-xnf6ds-g0gdhb\"><a aria-label=\"Report Review\" class=\"a-size-base a-link-normal a-color-secondary report-abuse-link a-text-normal\" href=\"/hz/reviews-render/report-review?ie=UTF8&amp;ref=cm_cr_dp_d_report&amp;csrfT=hLIdcUVsRnV3md1joVHSaOnCPjON3is7gLy1XOeNgZsnAAAAAGeolEQAAAAB&amp;reviewId=R1HOR140KCVGOD\">Report</a></span></span></span>\\n  </div></div></div></span></li></ul>'"
      ]
     },
     "execution_count": 134,
     "metadata": {},
     "output_type": "execute_result"
    }
   ],
   "source": [
    "elems = driver.find_element(By.ID, 'cm-cr-dp-review-list')\n",
    "html = elems.get_attribute('outerHTML')\n",
    "html"
   ]
  },
  {
   "cell_type": "code",
   "execution_count": 135,
   "metadata": {},
   "outputs": [
    {
     "data": {
      "text/plain": [
       "[<selenium.webdriver.remote.webelement.WebElement (session=\"c5752f5e86475c91b812db5b9234401c\", element=\"f.3C7526B15C748B4E48BAEC4D23D95B3A.d.BC1850D8B1AF8D5E97B5F4A631E43504.e.193\")>,\n",
       " <selenium.webdriver.remote.webelement.WebElement (session=\"c5752f5e86475c91b812db5b9234401c\", element=\"f.3C7526B15C748B4E48BAEC4D23D95B3A.d.BC1850D8B1AF8D5E97B5F4A631E43504.e.194\")>,\n",
       " <selenium.webdriver.remote.webelement.WebElement (session=\"c5752f5e86475c91b812db5b9234401c\", element=\"f.3C7526B15C748B4E48BAEC4D23D95B3A.d.BC1850D8B1AF8D5E97B5F4A631E43504.e.195\")>,\n",
       " <selenium.webdriver.remote.webelement.WebElement (session=\"c5752f5e86475c91b812db5b9234401c\", element=\"f.3C7526B15C748B4E48BAEC4D23D95B3A.d.BC1850D8B1AF8D5E97B5F4A631E43504.e.196\")>,\n",
       " <selenium.webdriver.remote.webelement.WebElement (session=\"c5752f5e86475c91b812db5b9234401c\", element=\"f.3C7526B15C748B4E48BAEC4D23D95B3A.d.BC1850D8B1AF8D5E97B5F4A631E43504.e.197\")>,\n",
       " <selenium.webdriver.remote.webelement.WebElement (session=\"c5752f5e86475c91b812db5b9234401c\", element=\"f.3C7526B15C748B4E48BAEC4D23D95B3A.d.BC1850D8B1AF8D5E97B5F4A631E43504.e.198\")>,\n",
       " <selenium.webdriver.remote.webelement.WebElement (session=\"c5752f5e86475c91b812db5b9234401c\", element=\"f.3C7526B15C748B4E48BAEC4D23D95B3A.d.BC1850D8B1AF8D5E97B5F4A631E43504.e.199\")>,\n",
       " <selenium.webdriver.remote.webelement.WebElement (session=\"c5752f5e86475c91b812db5b9234401c\", element=\"f.3C7526B15C748B4E48BAEC4D23D95B3A.d.BC1850D8B1AF8D5E97B5F4A631E43504.e.200\")>,\n",
       " <selenium.webdriver.remote.webelement.WebElement (session=\"c5752f5e86475c91b812db5b9234401c\", element=\"f.3C7526B15C748B4E48BAEC4D23D95B3A.d.BC1850D8B1AF8D5E97B5F4A631E43504.e.201\")>]"
      ]
     },
     "execution_count": 135,
     "metadata": {},
     "output_type": "execute_result"
    }
   ],
   "source": [
    "reviewScraped = driver.find_elements(By.XPATH, \"//li[@data-hook='review']\")\n",
    "reviewScraped"
   ]
  },
  {
   "cell_type": "code",
   "execution_count": null,
   "metadata": {},
   "outputs": [
    {
     "data": {
      "text/plain": [
       "[<selenium.webdriver.remote.webelement.WebElement (session=\"a795711fa24e6d2303bd661c811e3628\", element=\"f.031494D91B865B80731D198EB758B96C.d.EF2FF07613E1C7E0506EAF8AB714DDFF.e.172\")>,\n",
       " <selenium.webdriver.remote.webelement.WebElement (session=\"a795711fa24e6d2303bd661c811e3628\", element=\"f.031494D91B865B80731D198EB758B96C.d.EF2FF07613E1C7E0506EAF8AB714DDFF.e.173\")>,\n",
       " <selenium.webdriver.remote.webelement.WebElement (session=\"a795711fa24e6d2303bd661c811e3628\", element=\"f.031494D91B865B80731D198EB758B96C.d.EF2FF07613E1C7E0506EAF8AB714DDFF.e.174\")>,\n",
       " <selenium.webdriver.remote.webelement.WebElement (session=\"a795711fa24e6d2303bd661c811e3628\", element=\"f.031494D91B865B80731D198EB758B96C.d.EF2FF07613E1C7E0506EAF8AB714DDFF.e.175\")>,\n",
       " <selenium.webdriver.remote.webelement.WebElement (session=\"a795711fa24e6d2303bd661c811e3628\", element=\"f.031494D91B865B80731D198EB758B96C.d.EF2FF07613E1C7E0506EAF8AB714DDFF.e.176\")>,\n",
       " <selenium.webdriver.remote.webelement.WebElement (session=\"a795711fa24e6d2303bd661c811e3628\", element=\"f.031494D91B865B80731D198EB758B96C.d.EF2FF07613E1C7E0506EAF8AB714DDFF.e.177\")>,\n",
       " <selenium.webdriver.remote.webelement.WebElement (session=\"a795711fa24e6d2303bd661c811e3628\", element=\"f.031494D91B865B80731D198EB758B96C.d.EF2FF07613E1C7E0506EAF8AB714DDFF.e.178\")>,\n",
       " <selenium.webdriver.remote.webelement.WebElement (session=\"a795711fa24e6d2303bd661c811e3628\", element=\"f.031494D91B865B80731D198EB758B96C.d.EF2FF07613E1C7E0506EAF8AB714DDFF.e.179\")>,\n",
       " <selenium.webdriver.remote.webelement.WebElement (session=\"a795711fa24e6d2303bd661c811e3628\", element=\"f.031494D91B865B80731D198EB758B96C.d.EF2FF07613E1C7E0506EAF8AB714DDFF.e.180\")>]"
      ]
     },
     "execution_count": 120,
     "metadata": {},
     "output_type": "execute_result"
    }
   ],
   "source": [
    "onlyReviewScrapped = driver.find_elements(By.XPATH, \"//div[@data-hook='review-collapsed']\")\n",
    "onlyReviewScrapped"
   ]
  },
  {
   "cell_type": "code",
   "execution_count": null,
   "metadata": {},
   "outputs": [
    {
     "data": {
      "text/plain": [
       "[['Amazon Customer\\nGrandson Completely happy!!\\nReviewed in the United States on December 18, 2024\\nColor: WhiteVerified Purchase\\nThese were a replacement for my grandson. He came to me and said he wanted to get these ones. The reviews looked great!! The ear pieces are soft and comfortable he says. the mic works perfectly. The sound is nice crisp and clear. And the cord on it is just about perfect as well. Maybe a little longer but works perfectly. Also, they are holding up to his little brothers shinanigans as well. Quite durable indeed. Thank you for offering a great headset for the Xbox. and a great price!!\\n4 people found this helpful\\nHelpful\\n',\n",
       "  ''],\n",
       " ['Meghan Tauzier\\nGreat Inexpensive Headset!\\nReviewed in the United States on February 2, 2025\\nColor: WhiteVerified Purchase\\nGot this headset for my new PC and it works great. No issues setting up and it’s a great value. The sound is great and I’ve had no complaints on the microphone. The cord length is great, they definitely give you enough room. I love the color options, the white matches my set up perfectly. So far they have lasted and held up great. I definitely recommend is you’re looking for a really good inexpensive headset for pc!\\nOne person found this helpful\\nHelpful\\n',\n",
       "  ''],\n",
       " [\"Melissa A Merritt\\nGreat for teenage boy!\\nReviewed in the United States on December 24, 2024\\nColor: WhiteVerified Purchase\\npurchased this gaming headset for my teenage son, and it has exceeded all expectations! The build quality is fantastic—it's incredibly sturdy and holds up well to daily use (and the occasional accidental drop). My son absolutely loves it and says it's the best headset he's ever used.\\n\\nThe sound quality is crystal clear, with great balance between game audio and chat, which makes it perfect for his online gaming sessions with friends. It works seamlessly with his Xbox, and the plug-and-play setup was a breeze.\\n\\nThe comfort level is also worth mentioning—the cushioned ear pads and adjustable headband mean he can wear it for hours without any discomfort. This headset has definitely enhanced his gaming experience, and as a parent, I’m thrilled with the quality and durability. Highly recommend it for any gamer!\\nOne person found this helpful\\nHelpful\\n\",\n",
       "  ''],\n",
       " ['Emmalee\\n⭐️⭐️⭐️⭐️⭐️ Amazing Gaming Headset – Totally Worth It!\\nReviewed in the United States on December 21, 2024\\nColor: WhiteVerified Purchase\\nI’ve been using this headset for a few weeks now, and it’s absolutely fantastic. The sound quality is crystal clear, with rich bass and sharp treble that make every gaming session immersive. The noise-canceling microphone is a game-changer—it picks up my voice perfectly while filtering out background noise, so my teammates can hear me loud and clear.\\n\\nComfort-wise, this headset is top-notch. The ear cushions are plush and breathable, and I can wear it for hours without any discomfort. It also feels sturdy but lightweight, so it doesn’t weigh me down.\\n\\nThe build quality is impressive, with a sleek design and durable materials that feel premium. The RGB lighting adds a fun touch without being too over-the-top.\\n\\nSetup was super easy—just plug and play! It’s compatible with my PC, console, and even my phone. Overall, this headset is a must-have for any gamer looking to upgrade their gear. Highly recommend!\\nOne person found this helpful\\nHelpful\\n',\n",
       "  ''],\n",
       " [\"Stephanie\\nGreat headphones\\nReviewed in the United States on December 28, 2024\\nColor: WhiteVerified Purchase\\nEasy to use and they look great. My daughter also said they have great sound. The only thing I wasn't a fan of was having to plug the headphones into the Playstation with a different cable to get the headphones to light up. Lots of wires hanging around.\\nOne person found this helpful\\nHelpful\\n\",\n",
       "  ''],\n",
       " ['cabrob\\ngood quality, block out yelling toddlers 😂\\nReviewed in the United States on December 13, 2024\\nColor: WhiteVerified Purchase\\nafter having these headphones for several months i feel comfortable enough to leave a review. these are fairly great quality for the price. the sound quality is so good at about half way that i find it difficult to hear the chaos with two toddlers. 😂 (someone else is obviously watching them at this time) the mic is good and ive had no complaints when others hear me. overall the headphones feel good on my head/ears and everything seems to work amazingly well. 😊 very happy with this purchase, i feel like most times when buying cheaper end items they fail to work after about 6 months. but not these! plus they are extremely stylish!\\n11 people found this helpful\\nHelpful\\n',\n",
       "  ''],\n",
       " ['Erica Wilson\\nExcellent Product\\nReviewed in the United States on January 22, 2025\\nColor: WhiteVerified Purchase\\nExcellent Gaming Headphones. Works great with our XBox1. Super cool design! Comfortable for hours of gaming. Clear sound and microphone works great. Would definitely buy again!\\n2 people found this helpful\\nHelpful\\n',\n",
       "  ''],\n",
       " [\"Shaune Drake\\nThis Thing Rocks!!!!\\nReviewed in the United States on January 2, 2025\\nColor: WhiteVerified Purchase\\nI don't play many multiplayer games anymore that require voice chat, but my son wanted me to join his voyages on Sea of Theives for the Xbox, so I bought this to try out.\\n\\nIt was perfect! I was able to hear everything going on around me as our ship was set a blaze by much better players. I have used a few of these in the past and this one stands above the rest in price and quality. Fits the budget perfectly.\\n\\nThe fact that the microphone can articulate closer to your mouth, instead of just a up and down movement is a major plus.\\n\\nI will definitely be buying another for backup purposes!\\n6 people found this helpful\\nHelpful\\n\",\n",
       "  ''],\n",
       " ['Jackie\\nرائع\\nReviewed in Saudi Arabia on December 8, 2024\\nColor: WhiteVerified Purchase\\nجميل\\n',\n",
       "  '\\nTranslate review to English']]"
      ]
     },
     "execution_count": 121,
     "metadata": {},
     "output_type": "execute_result"
    }
   ],
   "source": [
    "reviewList = []\n",
    "for review in reviewScraped:\n",
    "  reviewList.append(review.text.split('Report'))\n",
    "reviewList"
   ]
  },
  {
   "cell_type": "code",
   "execution_count": null,
   "metadata": {},
   "outputs": [
    {
     "data": {
      "text/plain": [
       "['These were a replacement for my grandson. He came to me and said he wanted to get these ones. The reviews looked great!! The ear pieces are soft and comfortable he says. the mic works perfectly. The sound is nice crisp and clear. And the cord on it is just about perfect as well. Maybe a little longer but works perfectly. Also, they are holding up to his little brothers shinanigans as well. Quite durable indeed. Thank you for offering a great headset for the Xbox. and a great price!!',\n",
       " 'Got this headset for my new PC and it works great. No issues setting up and it’s a great value. The sound is great and I’ve had no complaints on the microphone. The cord length is great, they definitely give you enough room. I love the color options, the white matches my set up perfectly. So far they have lasted and held up great. I definitely recommend is you’re looking for a really good inexpensive headset for pc!',\n",
       " \"purchased this gaming headset for my teenage son, and it has exceeded all expectations! The build quality is fantastic—it's incredibly sturdy and holds up well to daily use (and the occasional accidental drop). My son absolutely loves it and says it's the best headset he's ever used.\\n\\nThe sound quality is crystal clear, with great balance between game audio and chat, which makes it perfect for his online gaming sessions with friends. It works seamlessly with his Xbox, and the plug-and-play setup was a breeze.\\n\\nThe comfort level is also worth mentioning—the cushioned ear pads and adjustable headband mean he can wear it for hours without any discomfort. This headset has definitely enhanced his gaming experience, and as a parent, I’m thrilled with the quality and durability. Highly recommend it for any gamer!\",\n",
       " 'I’ve been using this headset for a few weeks now, and it’s absolutely fantastic. The sound quality is crystal clear, with rich bass and sharp treble that make every gaming session immersive. The noise-canceling microphone is a game-changer—it picks up my voice perfectly while filtering out background noise, so my teammates can hear me loud and clear.\\n\\nComfort-wise, this headset is top-notch. The ear cushions are plush and breathable, and I can wear it for hours without any discomfort. It also feels sturdy but lightweight, so it doesn’t weigh me down.\\n\\nThe build quality is impressive, with a sleek design and durable materials that feel premium. The RGB lighting adds a fun touch without being too over-the-top.\\n\\nSetup was super easy—just plug and play! It’s compatible with my PC, console, and even my phone. Overall, this headset is a must-have for any gamer looking to upgrade their gear. Highly recommend!',\n",
       " \"Easy to use and they look great. My daughter also said they have great sound. The only thing I wasn't a fan of was having to plug the headphones into the Playstation with a different cable to get the headphones to light up. Lots of wires hanging around.\",\n",
       " 'after having these headphones for several months i feel comfortable enough to leave a review. these are fairly great quality for the price. the sound quality is so good at about half way that i find it difficult to hear the chaos with two toddlers. 😂 (someone else is obviously watching them at this time) the mic is good and ive had no complaints when others hear me. overall the headphones feel good on my head/ears and everything seems to work amazingly well. 😊 very happy with this purchase, i feel like most times when buying cheaper end items they fail to work after about 6 months. but not these! plus they are extremely stylish!',\n",
       " 'Excellent Gaming Headphones. Works great with our XBox1. Super cool design! Comfortable for hours of gaming. Clear sound and microphone works great. Would definitely buy again!',\n",
       " \"I don't play many multiplayer games anymore that require voice chat, but my son wanted me to join his voyages on Sea of Theives for the Xbox, so I bought this to try out.\\n\\nIt was perfect! I was able to hear everything going on around me as our ship was set a blaze by much better players. I have used a few of these in the past and this one stands above the rest in price and quality. Fits the budget perfectly.\\n\\nThe fact that the microphone can articulate closer to your mouth, instead of just a up and down movement is a major plus.\\n\\nI will definitely be buying another for backup purposes!\",\n",
       " 'جميل']"
      ]
     },
     "execution_count": 122,
     "metadata": {},
     "output_type": "execute_result"
    }
   ],
   "source": [
    "reviews = []\n",
    "for review in onlyReviewScrapped:\n",
    "  reviews.append(review.text)\n",
    "reviews"
   ]
  },
  {
   "cell_type": "code",
   "execution_count": 123,
   "metadata": {},
   "outputs": [
    {
     "data": {
      "text/plain": [
       "[{'name': 'Amazon Customer',\n",
       "  'reviewTitle': 'Grandson Completely happy!!',\n",
       "  'dateNLoc': 'Reviewed in the United States on December 18, 2024',\n",
       "  'color': 'Color: WhiteVerified Purchase',\n",
       "  'review': 'These were a replacement for my grandson. He came to me and said he wanted to get these ones. The reviews looked great!! The ear pieces are soft and comfortable he says. the mic works perfectly. The sound is nice crisp and clear. And the cord on it is just about perfect as well. Maybe a little longer but works perfectly. Also, they are holding up to his little brothers shinanigans as well. Quite durable indeed. Thank you for offering a great headset for the Xbox. and a great price!!'},\n",
       " {'name': 'Meghan Tauzier',\n",
       "  'reviewTitle': 'Great Inexpensive Headset!',\n",
       "  'dateNLoc': 'Reviewed in the United States on February 2, 2025',\n",
       "  'color': 'Color: WhiteVerified Purchase',\n",
       "  'review': 'Got this headset for my new PC and it works great. No issues setting up and it’s a great value. The sound is great and I’ve had no complaints on the microphone. The cord length is great, they definitely give you enough room. I love the color options, the white matches my set up perfectly. So far they have lasted and held up great. I definitely recommend is you’re looking for a really good inexpensive headset for pc!'},\n",
       " {'name': 'Melissa A Merritt',\n",
       "  'reviewTitle': 'Great for teenage boy!',\n",
       "  'dateNLoc': 'Reviewed in the United States on December 24, 2024',\n",
       "  'color': 'Color: WhiteVerified Purchase',\n",
       "  'review': \"purchased this gaming headset for my teenage son, and it has exceeded all expectations! The build quality is fantastic—it's incredibly sturdy and holds up well to daily use (and the occasional accidental drop). My son absolutely loves it and says it's the best headset he's ever used.\\n\\nThe sound quality is crystal clear, with great balance between game audio and chat, which makes it perfect for his online gaming sessions with friends. It works seamlessly with his Xbox, and the plug-and-play setup was a breeze.\\n\\nThe comfort level is also worth mentioning—the cushioned ear pads and adjustable headband mean he can wear it for hours without any discomfort. This headset has definitely enhanced his gaming experience, and as a parent, I’m thrilled with the quality and durability. Highly recommend it for any gamer!\"},\n",
       " {'name': 'Emmalee',\n",
       "  'reviewTitle': '⭐️⭐️⭐️⭐️⭐️ Amazing Gaming Headset – Totally Worth It!',\n",
       "  'dateNLoc': 'Reviewed in the United States on December 21, 2024',\n",
       "  'color': 'Color: WhiteVerified Purchase',\n",
       "  'review': 'I’ve been using this headset for a few weeks now, and it’s absolutely fantastic. The sound quality is crystal clear, with rich bass and sharp treble that make every gaming session immersive. The noise-canceling microphone is a game-changer—it picks up my voice perfectly while filtering out background noise, so my teammates can hear me loud and clear.\\n\\nComfort-wise, this headset is top-notch. The ear cushions are plush and breathable, and I can wear it for hours without any discomfort. It also feels sturdy but lightweight, so it doesn’t weigh me down.\\n\\nThe build quality is impressive, with a sleek design and durable materials that feel premium. The RGB lighting adds a fun touch without being too over-the-top.\\n\\nSetup was super easy—just plug and play! It’s compatible with my PC, console, and even my phone. Overall, this headset is a must-have for any gamer looking to upgrade their gear. Highly recommend!'},\n",
       " {'name': 'Stephanie',\n",
       "  'reviewTitle': 'Great headphones',\n",
       "  'dateNLoc': 'Reviewed in the United States on December 28, 2024',\n",
       "  'color': 'Color: WhiteVerified Purchase',\n",
       "  'review': \"Easy to use and they look great. My daughter also said they have great sound. The only thing I wasn't a fan of was having to plug the headphones into the Playstation with a different cable to get the headphones to light up. Lots of wires hanging around.\"},\n",
       " {'name': 'cabrob',\n",
       "  'reviewTitle': 'good quality, block out yelling toddlers 😂',\n",
       "  'dateNLoc': 'Reviewed in the United States on December 13, 2024',\n",
       "  'color': 'Color: WhiteVerified Purchase',\n",
       "  'review': 'after having these headphones for several months i feel comfortable enough to leave a review. these are fairly great quality for the price. the sound quality is so good at about half way that i find it difficult to hear the chaos with two toddlers. 😂 (someone else is obviously watching them at this time) the mic is good and ive had no complaints when others hear me. overall the headphones feel good on my head/ears and everything seems to work amazingly well. 😊 very happy with this purchase, i feel like most times when buying cheaper end items they fail to work after about 6 months. but not these! plus they are extremely stylish!'},\n",
       " {'name': 'Erica Wilson',\n",
       "  'reviewTitle': 'Excellent Product',\n",
       "  'dateNLoc': 'Reviewed in the United States on January 22, 2025',\n",
       "  'color': 'Color: WhiteVerified Purchase',\n",
       "  'review': 'Excellent Gaming Headphones. Works great with our XBox1. Super cool design! Comfortable for hours of gaming. Clear sound and microphone works great. Would definitely buy again!'},\n",
       " {'name': 'Shaune Drake',\n",
       "  'reviewTitle': 'This Thing Rocks!!!!',\n",
       "  'dateNLoc': 'Reviewed in the United States on January 2, 2025',\n",
       "  'color': 'Color: WhiteVerified Purchase',\n",
       "  'review': \"I don't play many multiplayer games anymore that require voice chat, but my son wanted me to join his voyages on Sea of Theives for the Xbox, so I bought this to try out.\\n\\nIt was perfect! I was able to hear everything going on around me as our ship was set a blaze by much better players. I have used a few of these in the past and this one stands above the rest in price and quality. Fits the budget perfectly.\\n\\nThe fact that the microphone can articulate closer to your mouth, instead of just a up and down movement is a major plus.\\n\\nI will definitely be buying another for backup purposes!\"},\n",
       " {'name': 'Jackie',\n",
       "  'reviewTitle': 'رائع',\n",
       "  'dateNLoc': 'Reviewed in Saudi Arabia on December 8, 2024',\n",
       "  'color': 'Color: WhiteVerified Purchase',\n",
       "  'review': 'جميل'}]"
      ]
     },
     "execution_count": 123,
     "metadata": {},
     "output_type": "execute_result"
    }
   ],
   "source": [
    "noOfReviews = len(reviewList)\n",
    "reviewArr = []\n",
    "for reviewItem in range(noOfReviews):\n",
    "  name, reviewTitle, dateNLoc, color = reviewList[reviewItem][0].split('\\n')[:4]\n",
    "  review = reviews[reviewItem]\n",
    "  reviewObj = {\n",
    "    'name': name,\n",
    "    'reviewTitle': reviewTitle,\n",
    "    'dateNLoc': dateNLoc,\n",
    "    'color': color,\n",
    "    'review': review\n",
    "  }\n",
    "  reviewArr.append(reviewObj)\n",
    "reviewArr"
   ]
  },
  {
   "cell_type": "code",
   "execution_count": 124,
   "metadata": {},
   "outputs": [
    {
     "data": {
      "text/html": [
       "<div>\n",
       "<style scoped>\n",
       "    .dataframe tbody tr th:only-of-type {\n",
       "        vertical-align: middle;\n",
       "    }\n",
       "\n",
       "    .dataframe tbody tr th {\n",
       "        vertical-align: top;\n",
       "    }\n",
       "\n",
       "    .dataframe thead th {\n",
       "        text-align: right;\n",
       "    }\n",
       "</style>\n",
       "<table border=\"1\" class=\"dataframe\">\n",
       "  <thead>\n",
       "    <tr style=\"text-align: right;\">\n",
       "      <th></th>\n",
       "      <th>Reviews</th>\n",
       "    </tr>\n",
       "  </thead>\n",
       "  <tbody>\n",
       "    <tr>\n",
       "      <th>0</th>\n",
       "      <td>These were a replacement for my grandson. He c...</td>\n",
       "    </tr>\n",
       "    <tr>\n",
       "      <th>1</th>\n",
       "      <td>Got this headset for my new PC and it works gr...</td>\n",
       "    </tr>\n",
       "    <tr>\n",
       "      <th>2</th>\n",
       "      <td>purchased this gaming headset for my teenage s...</td>\n",
       "    </tr>\n",
       "    <tr>\n",
       "      <th>3</th>\n",
       "      <td>I’ve been using this headset for a few weeks n...</td>\n",
       "    </tr>\n",
       "    <tr>\n",
       "      <th>4</th>\n",
       "      <td>Easy to use and they look great. My daughter a...</td>\n",
       "    </tr>\n",
       "  </tbody>\n",
       "</table>\n",
       "</div>"
      ],
      "text/plain": [
       "                                             Reviews\n",
       "0  These were a replacement for my grandson. He c...\n",
       "1  Got this headset for my new PC and it works gr...\n",
       "2  purchased this gaming headset for my teenage s...\n",
       "3  I’ve been using this headset for a few weeks n...\n",
       "4  Easy to use and they look great. My daughter a..."
      ]
     },
     "execution_count": 124,
     "metadata": {},
     "output_type": "execute_result"
    }
   ],
   "source": [
    "df = pd.DataFrame(data=reviews, columns={\"Reviews\": reviews})\n",
    "df.head(5)"
   ]
  },
  {
   "cell_type": "markdown",
   "metadata": {},
   "source": [
    "## Save Results"
   ]
  },
  {
   "cell_type": "code",
   "execution_count": 125,
   "metadata": {},
   "outputs": [],
   "source": [
    "df.to_csv(\"Reviews.csv\", index=False)"
   ]
  }
 ],
 "metadata": {
  "kernelspec": {
   "display_name": "Python 3",
   "language": "python",
   "name": "python3"
  },
  "language_info": {
   "codemirror_mode": {
    "name": "ipython",
    "version": 3
   },
   "file_extension": ".py",
   "mimetype": "text/x-python",
   "name": "python",
   "nbconvert_exporter": "python",
   "pygments_lexer": "ipython3",
   "version": "3.12.9"
  }
 },
 "nbformat": 4,
 "nbformat_minor": 2
}
